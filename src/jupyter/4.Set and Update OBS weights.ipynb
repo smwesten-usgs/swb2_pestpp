{
 "cells": [
  {
   "cell_type": "markdown",
   "metadata": {},
   "source": [
    "### Apply weights to ET & SW observations, make ajustments as necessary, save output for pyemu"
   ]
  },
  {
   "cell_type": "code",
   "execution_count": 1,
   "metadata": {},
   "outputs": [],
   "source": [
    "# 8/20/2020\n",
    "# M Nielsen"
   ]
  },
  {
   "cell_type": "code",
   "execution_count": 4,
   "metadata": {},
   "outputs": [],
   "source": [
    "import os\n",
    "import numpy as np\n",
    "import pandas as pd"
   ]
  },
  {
   "cell_type": "markdown",
   "metadata": {},
   "source": [
    "Start with ET observations, then process SW observations.  Save files to use with pyemu."
   ]
  },
  {
   "cell_type": "code",
   "execution_count": 5,
   "metadata": {},
   "outputs": [],
   "source": [
    "#Set locations:\n",
    "OBSDIR = 'E:\\\\UMID_Data\\\\0188_offline\\\\modeldev\\\\OBS'"
   ]
  },
  {
   "cell_type": "code",
   "execution_count": 6,
   "metadata": {},
   "outputs": [
    {
     "name": "stdout",
     "output_type": "stream",
     "text": [
      "<class 'pandas.core.frame.DataFrame'>\n",
      "RangeIndex: 4914 entries, 0 to 4913\n",
      "Data columns (total 7 columns):\n",
      " #   Column    Non-Null Count  Dtype  \n",
      "---  ------    --------------  -----  \n",
      " 0   ObsName   4914 non-null   object \n",
      " 1   LU        4914 non-null   object \n",
      " 2   Value     4842 non-null   float64\n",
      " 3   year      4914 non-null   int64  \n",
      " 4   YR        4914 non-null   int64  \n",
      " 5   ObsGroup  4914 non-null   object \n",
      " 6   variance  4914 non-null   float64\n",
      "dtypes: float64(2), int64(2), object(3)\n",
      "memory usage: 268.9+ KB\n",
      "None\n",
      "              ObsName   LU  Value  year  YR   ObsGroup  variance\n",
      "0  aetdcd-001_2013_01  DCD   0.45  2013  13  aet-dcd13  0.136330\n",
      "1  aetdcd-001_2013_02  DCD   0.33  2013  13  aet-dcd13  0.226211\n",
      "2  aetdcd-001_2013_03  DCD   2.43  2013  13  aet-dcd13  0.547783\n",
      "3  aetdcd-001_2013_04  DCD   3.55  2013  13  aet-dcd13  0.280142\n",
      "4  aetdcd-001_2013_05  DCD   4.71  2013  13  aet-dcd13  0.118134\n",
      "5  aetdcd-001_2013_06  DCD   6.02  2013  13  aet-dcd13  0.126475\n",
      "6  aetdcd-001_2013_07  DCD   6.75  2013  13  aet-dcd13  0.265611\n",
      "7  aetdcd-001_2013_08  DCD   6.52  2013  13  aet-dcd13  0.287982\n",
      "8  aetdcd-001_2013_09  DCD   4.15  2013  13  aet-dcd13  0.169368\n",
      "9  aetdcd-001_2013_10  DCD   2.62  2013  13  aet-dcd13  0.318073\n"
     ]
    }
   ],
   "source": [
    "# ET observations first:\n",
    "\n",
    "etobs = pd.read_csv(os.path.join(OBSDIR,'OBSERVATIONS_DATA_ET_wVARIANCES.csv'))\n",
    "\n",
    "etobs.drop(etobs.columns[0], axis=1, inplace=True)\n",
    "etobs.drop(etobs.columns[1], axis=1, inplace=True)\n",
    "del etobs['month']\n",
    "\n",
    "# Make names lowercase to match pyemu:\n",
    "etobs['ObsName'] = etobs['ObsName'].str.lower()\n",
    "etobs['ObsGroup'] = etobs['ObsGroup'].str.lower()\n",
    "print (etobs.info())\n",
    "print (etobs.head(10))"
   ]
  },
  {
   "cell_type": "code",
   "execution_count": 7,
   "metadata": {},
   "outputs": [],
   "source": [
    "# Calculate weights from the variances:\n",
    "etobs['WEIGHT'] = 1 / etobs['variance']\n",
    "\n",
    "del etobs['year']\n",
    "del etobs['LU']\n",
    "del etobs['YR']"
   ]
  },
  {
   "cell_type": "code",
   "execution_count": 8,
   "metadata": {},
   "outputs": [
    {
     "name": "stdout",
     "output_type": "stream",
     "text": [
      "                 ObsName  Value ObsGroup  variance    WEIGHT\n",
      "4909  aets15-581_2015_05   5.64  aet-s15  0.485879  2.058127\n",
      "4910  aets15-581_2015_06   6.06  aet-s15  0.300687  3.325716\n",
      "4911  aets15-581_2015_07   6.75  aet-s15  0.172212  5.806810\n",
      "4912  aets15-581_2015_08   5.61  aet-s15  0.512773  1.950179\n",
      "4913  aets15-581_2015_09   3.65  aet-s15  0.300227  3.330809\n",
      "['aet-dcd13' 'aet-dcd14' 'aet-dcd15' 'aet-evr13' 'aet-evr14' 'aet-evr15'\n",
      " 'aet-wet13' 'aet-wet14' 'aet-wet15' 'aet-c13' 'aet-c14' 'aet-c15'\n",
      " 'aet-r13' 'aet-r14' 'aet-r15' 'aet-s13' 'aet-s14' 'aet-s15']\n"
     ]
    }
   ],
   "source": [
    "print (etobs.tail())\n",
    "print (etobs.ObsGroup.unique())"
   ]
  },
  {
   "cell_type": "code",
   "execution_count": 9,
   "metadata": {},
   "outputs": [
    {
     "name": "stdout",
     "output_type": "stream",
     "text": [
      "['aet-dcd' 'aet-evr' 'aet-wet' 'aet-corn' 'aet-rice' 'aet-soy']\n"
     ]
    }
   ],
   "source": [
    "# Reduce the number of obs groups for the ET:\n",
    "etobs['OBS_group'] = etobs['ObsGroup'].str[:-2]\n",
    "etobs.loc[etobs['OBS_group'] == 'aet-c', 'OBS_group'] = 'aet-corn'\n",
    "etobs.loc[etobs['OBS_group'] == 'aet-r', 'OBS_group'] = 'aet-rice'\n",
    "etobs.loc[etobs['OBS_group'] == 'aet-s', 'OBS_group'] = 'aet-soy'\n",
    "\n",
    "print (etobs.OBS_group.unique())"
   ]
  },
  {
   "cell_type": "code",
   "execution_count": 10,
   "metadata": {},
   "outputs": [
    {
     "data": {
      "text/html": [
       "<div>\n",
       "<style scoped>\n",
       "    .dataframe tbody tr th:only-of-type {\n",
       "        vertical-align: middle;\n",
       "    }\n",
       "\n",
       "    .dataframe tbody tr th {\n",
       "        vertical-align: top;\n",
       "    }\n",
       "\n",
       "    .dataframe thead th {\n",
       "        text-align: right;\n",
       "    }\n",
       "</style>\n",
       "<table border=\"1\" class=\"dataframe\">\n",
       "  <thead>\n",
       "    <tr style=\"text-align: right;\">\n",
       "      <th></th>\n",
       "      <th>ObsName</th>\n",
       "      <th>Value</th>\n",
       "      <th>ObsGroup</th>\n",
       "      <th>variance</th>\n",
       "      <th>WEIGHT</th>\n",
       "      <th>OBS_group</th>\n",
       "    </tr>\n",
       "  </thead>\n",
       "  <tbody>\n",
       "    <tr>\n",
       "      <th>0</th>\n",
       "      <td>aetdcd-001_2013_01</td>\n",
       "      <td>0.45</td>\n",
       "      <td>aet-dcd13</td>\n",
       "      <td>0.136330</td>\n",
       "      <td>7.335136</td>\n",
       "      <td>aet-dcd</td>\n",
       "    </tr>\n",
       "    <tr>\n",
       "      <th>1</th>\n",
       "      <td>aetdcd-001_2013_02</td>\n",
       "      <td>0.33</td>\n",
       "      <td>aet-dcd13</td>\n",
       "      <td>0.226211</td>\n",
       "      <td>4.420646</td>\n",
       "      <td>aet-dcd</td>\n",
       "    </tr>\n",
       "    <tr>\n",
       "      <th>2</th>\n",
       "      <td>aetdcd-001_2013_03</td>\n",
       "      <td>2.43</td>\n",
       "      <td>aet-dcd13</td>\n",
       "      <td>0.547783</td>\n",
       "      <td>1.825542</td>\n",
       "      <td>aet-dcd</td>\n",
       "    </tr>\n",
       "    <tr>\n",
       "      <th>3</th>\n",
       "      <td>aetdcd-001_2013_04</td>\n",
       "      <td>3.55</td>\n",
       "      <td>aet-dcd13</td>\n",
       "      <td>0.280142</td>\n",
       "      <td>3.569624</td>\n",
       "      <td>aet-dcd</td>\n",
       "    </tr>\n",
       "    <tr>\n",
       "      <th>4</th>\n",
       "      <td>aetdcd-001_2013_05</td>\n",
       "      <td>4.71</td>\n",
       "      <td>aet-dcd13</td>\n",
       "      <td>0.118134</td>\n",
       "      <td>8.464989</td>\n",
       "      <td>aet-dcd</td>\n",
       "    </tr>\n",
       "  </tbody>\n",
       "</table>\n",
       "</div>"
      ],
      "text/plain": [
       "              ObsName  Value   ObsGroup  variance    WEIGHT OBS_group\n",
       "0  aetdcd-001_2013_01   0.45  aet-dcd13  0.136330  7.335136   aet-dcd\n",
       "1  aetdcd-001_2013_02   0.33  aet-dcd13  0.226211  4.420646   aet-dcd\n",
       "2  aetdcd-001_2013_03   2.43  aet-dcd13  0.547783  1.825542   aet-dcd\n",
       "3  aetdcd-001_2013_04   3.55  aet-dcd13  0.280142  3.569624   aet-dcd\n",
       "4  aetdcd-001_2013_05   4.71  aet-dcd13  0.118134  8.464989   aet-dcd"
      ]
     },
     "execution_count": 10,
     "metadata": {},
     "output_type": "execute_result"
    }
   ],
   "source": [
    "etobs.head()"
   ]
  },
  {
   "cell_type": "code",
   "execution_count": 11,
   "metadata": {},
   "outputs": [
    {
     "name": "stdout",
     "output_type": "stream",
     "text": [
      "                ObsName                              Comment      Value  \\\n",
      "0  bf_10_7030392_yr2000  Used original val, no upstream site   7.572857   \n",
      "1  bf_10_7030392_yr2001  Used original val, no upstream site   9.458571   \n",
      "2  bf_10_7030392_yr2002  Used original val, no upstream site  14.927143   \n",
      "3  bf_10_7030392_yr2003  Used original val, no upstream site  13.767143   \n",
      "4  bf_10_7030392_yr2004  Used original val, no upstream site  14.840000   \n",
      "\n",
      "   OBS_group  variance  \n",
      "0  BF_annual  0.058524  \n",
      "1  BF_annual  1.876748  \n",
      "2  BF_annual  2.069557  \n",
      "3  BF_annual  1.036057  \n",
      "4  BF_annual  1.301733  \n",
      "['BF_annual' 'RO_annual' 'BF_monthly' 'RO_monthly']\n"
     ]
    }
   ],
   "source": [
    "# Next, the SW observations:\n",
    "swobs = pd.read_csv(os.path.join(OBSDIR,'OBSERVATIONS_DATA_BF_RO_wVARIANCES.csv'))\n",
    "swobs.rename(columns = {'IDX2':'ObsName',\n",
    "                       'OBSVAL':'Value',\n",
    "                       'Variance':'variance'}, inplace=True)\n",
    "del swobs['Unnamed: 0']\n",
    "print (swobs.head())\n",
    "print (swobs.OBS_group.unique())"
   ]
  },
  {
   "cell_type": "markdown",
   "metadata": {},
   "source": [
    "For SW, weights based on the watershed size and type of observation, not the variance of the observation."
   ]
  },
  {
   "cell_type": "markdown",
   "metadata": {},
   "source": [
    "Using the range of the ET weights as a target, came up with a method to \n",
    "weight the SW observations, based on the size of the watershed.  The \"base\" weight is the natural log of the watershed size subtracted from the MAX of all the natural logs of the watershed sizes.  This gives a range in weights from about 0.25 for the ones about 1000 mi2, to 3.7 for the smallest, about 31 mi2.  Then for the \"higher weight\" observations, i.e. ones in which we're more confident in the observed values because of the method used (baseflow separation) - use this value * 1.5.  And for the \"lower weight\" obs, for which the method is not so great (i.e. monthly baseflow values - because of lag in recharge to baseflow), divide the \"base\" weight by 2. "
   ]
  },
  {
   "cell_type": "code",
   "execution_count": 12,
   "metadata": {},
   "outputs": [],
   "source": [
    "swobs['station'] = swobs['ObsName'].str.split('_').str[2].astype(int)"
   ]
  },
  {
   "cell_type": "code",
   "execution_count": 17,
   "metadata": {},
   "outputs": [
    {
     "name": "stdout",
     "output_type": "stream",
     "text": [
      "<class 'pandas.core.frame.DataFrame'>\n",
      "RangeIndex: 60 entries, 0 to 59\n",
      "Data columns (total 4 columns):\n",
      " #   Column         Non-Null Count  Dtype  \n",
      "---  ------         --------------  -----  \n",
      " 0   stationid      60 non-null     int64  \n",
      " 1   BASE Weight    60 non-null     float64\n",
      " 2   Lower weight   60 non-null     float64\n",
      " 3   Higher weight  60 non-null     float64\n",
      "dtypes: float64(3), int64(1)\n",
      "memory usage: 2.0 KB\n"
     ]
    }
   ],
   "source": [
    "# get weights data:\n",
    "infile = os.path.join(OBSDIR, 'Baseflow_Separation_Results\\Sites with baseflow data done.xlsx')\n",
    "tmp = pd.read_excel(infile, 'Weighting')\n",
    "wtdata = tmp[['stationid','BASE Weight','Lower weight','Higher weight']]\n",
    "wtdata.info()"
   ]
  },
  {
   "cell_type": "code",
   "execution_count": 18,
   "metadata": {},
   "outputs": [
    {
     "name": "stdout",
     "output_type": "stream",
     "text": [
      "<class 'pandas.core.frame.DataFrame'>\n",
      "Int64Index: 26824 entries, 0 to 26823\n",
      "Data columns (total 10 columns):\n",
      " #   Column         Non-Null Count  Dtype  \n",
      "---  ------         --------------  -----  \n",
      " 0   ObsName        26824 non-null  object \n",
      " 1   Comment        26824 non-null  object \n",
      " 2   Value          26824 non-null  float64\n",
      " 3   OBS_group      26824 non-null  object \n",
      " 4   variance       26824 non-null  float64\n",
      " 5   station        26824 non-null  int32  \n",
      " 6   stationid      26824 non-null  int64  \n",
      " 7   BASE Weight    26824 non-null  float64\n",
      " 8   Lower weight   26824 non-null  float64\n",
      " 9   Higher weight  26824 non-null  float64\n",
      "dtypes: float64(5), int32(1), int64(1), object(3)\n",
      "memory usage: 2.1+ MB\n"
     ]
    }
   ],
   "source": [
    "# Join the weights into the swobs:\n",
    "swobs2 = pd.merge(swobs, wtdata, how='left', left_on='station', right_on='stationid')\n",
    "swobs2.info()"
   ]
  },
  {
   "cell_type": "code",
   "execution_count": 19,
   "metadata": {},
   "outputs": [
    {
     "data": {
      "text/html": [
       "<div>\n",
       "<style scoped>\n",
       "    .dataframe tbody tr th:only-of-type {\n",
       "        vertical-align: middle;\n",
       "    }\n",
       "\n",
       "    .dataframe tbody tr th {\n",
       "        vertical-align: top;\n",
       "    }\n",
       "\n",
       "    .dataframe thead th {\n",
       "        text-align: right;\n",
       "    }\n",
       "</style>\n",
       "<table border=\"1\" class=\"dataframe\">\n",
       "  <thead>\n",
       "    <tr style=\"text-align: right;\">\n",
       "      <th></th>\n",
       "      <th>ObsName</th>\n",
       "      <th>Comment</th>\n",
       "      <th>Value</th>\n",
       "      <th>OBS_group</th>\n",
       "      <th>variance</th>\n",
       "      <th>station</th>\n",
       "      <th>stationid</th>\n",
       "      <th>BASE Weight</th>\n",
       "      <th>Lower weight</th>\n",
       "      <th>Higher weight</th>\n",
       "    </tr>\n",
       "  </thead>\n",
       "  <tbody>\n",
       "    <tr>\n",
       "      <th>26819</th>\n",
       "      <td>ro_9_7027720_sep-15</td>\n",
       "      <td>Used original val, no upstream site.</td>\n",
       "      <td>0.064286</td>\n",
       "      <td>RO_monthly</td>\n",
       "      <td>0.000062</td>\n",
       "      <td>7027720</td>\n",
       "      <td>7027720</td>\n",
       "      <td>1.562218</td>\n",
       "      <td>0.781109</td>\n",
       "      <td>2.343327</td>\n",
       "    </tr>\n",
       "    <tr>\n",
       "      <th>26820</th>\n",
       "      <td>ro_9_7027720_sep-16</td>\n",
       "      <td>Used original val, no upstream site.</td>\n",
       "      <td>0.031429</td>\n",
       "      <td>RO_monthly</td>\n",
       "      <td>0.000081</td>\n",
       "      <td>7027720</td>\n",
       "      <td>7027720</td>\n",
       "      <td>1.562218</td>\n",
       "      <td>0.781109</td>\n",
       "      <td>2.343327</td>\n",
       "    </tr>\n",
       "    <tr>\n",
       "      <th>26821</th>\n",
       "      <td>ro_9_7027720_sep-17</td>\n",
       "      <td>Used original val, no upstream site.</td>\n",
       "      <td>1.312857</td>\n",
       "      <td>RO_monthly</td>\n",
       "      <td>0.127924</td>\n",
       "      <td>7027720</td>\n",
       "      <td>7027720</td>\n",
       "      <td>1.562218</td>\n",
       "      <td>0.781109</td>\n",
       "      <td>2.343327</td>\n",
       "    </tr>\n",
       "    <tr>\n",
       "      <th>26822</th>\n",
       "      <td>ro_9_7027720_sep-18</td>\n",
       "      <td>Used original val, no upstream site.</td>\n",
       "      <td>1.635714</td>\n",
       "      <td>RO_monthly</td>\n",
       "      <td>0.046495</td>\n",
       "      <td>7027720</td>\n",
       "      <td>7027720</td>\n",
       "      <td>1.562218</td>\n",
       "      <td>0.781109</td>\n",
       "      <td>2.343327</td>\n",
       "    </tr>\n",
       "    <tr>\n",
       "      <th>26823</th>\n",
       "      <td>ro_9_7027720_sep-19</td>\n",
       "      <td>Used original val, no upstream site.</td>\n",
       "      <td>0.024286</td>\n",
       "      <td>RO_monthly</td>\n",
       "      <td>0.000029</td>\n",
       "      <td>7027720</td>\n",
       "      <td>7027720</td>\n",
       "      <td>1.562218</td>\n",
       "      <td>0.781109</td>\n",
       "      <td>2.343327</td>\n",
       "    </tr>\n",
       "  </tbody>\n",
       "</table>\n",
       "</div>"
      ],
      "text/plain": [
       "                   ObsName                               Comment     Value  \\\n",
       "26819  ro_9_7027720_sep-15  Used original val, no upstream site.  0.064286   \n",
       "26820  ro_9_7027720_sep-16  Used original val, no upstream site.  0.031429   \n",
       "26821  ro_9_7027720_sep-17  Used original val, no upstream site.  1.312857   \n",
       "26822  ro_9_7027720_sep-18  Used original val, no upstream site.  1.635714   \n",
       "26823  ro_9_7027720_sep-19  Used original val, no upstream site.  0.024286   \n",
       "\n",
       "        OBS_group  variance  station  stationid  BASE Weight  Lower weight  \\\n",
       "26819  RO_monthly  0.000062  7027720    7027720     1.562218      0.781109   \n",
       "26820  RO_monthly  0.000081  7027720    7027720     1.562218      0.781109   \n",
       "26821  RO_monthly  0.127924  7027720    7027720     1.562218      0.781109   \n",
       "26822  RO_monthly  0.046495  7027720    7027720     1.562218      0.781109   \n",
       "26823  RO_monthly  0.000029  7027720    7027720     1.562218      0.781109   \n",
       "\n",
       "       Higher weight  \n",
       "26819       2.343327  \n",
       "26820       2.343327  \n",
       "26821       2.343327  \n",
       "26822       2.343327  \n",
       "26823       2.343327  "
      ]
     },
     "execution_count": 19,
     "metadata": {},
     "output_type": "execute_result"
    }
   ],
   "source": [
    "swobs2.tail()"
   ]
  },
  {
   "cell_type": "code",
   "execution_count": 20,
   "metadata": {},
   "outputs": [
    {
     "data": {
      "text/plain": [
       "array(['Used original val, no upstream site',\n",
       "       'Incremental inches calculated',\n",
       "       'More runoff upstream than at gage, increment calculated',\n",
       "       'Used original val, no upstream site.'], dtype=object)"
      ]
     },
     "execution_count": 20,
     "metadata": {},
     "output_type": "execute_result"
    }
   ],
   "source": [
    "swobs2.Comment.unique()"
   ]
  },
  {
   "cell_type": "code",
   "execution_count": 21,
   "metadata": {},
   "outputs": [],
   "source": [
    "# Assign actual weights:\n",
    "swobs2['WEIGHT'] = swobs2['BASE Weight']\n",
    "swobs2.loc[swobs2['OBS_group'] == 'RO_monthly', 'WEIGHT'] = swobs2['Higher weight']\n",
    "swobs2.loc[swobs2['OBS_group'] == 'BF_annual', 'WEIGHT'] = swobs2['Higher weight']\n",
    "swobs2.loc[swobs2['OBS_group'] == 'BF_monthly', 'WEIGHT'] = swobs2['Lower weight']"
   ]
  },
  {
   "cell_type": "code",
   "execution_count": 22,
   "metadata": {},
   "outputs": [],
   "source": [
    "# Subset for joining with ET:\n",
    "swobs3 = swobs2[['ObsName','Value','OBS_group','variance','WEIGHT']]"
   ]
  },
  {
   "cell_type": "markdown",
   "metadata": {},
   "source": [
    "#### Join two sets together, save file for pyemu"
   ]
  },
  {
   "cell_type": "code",
   "execution_count": 23,
   "metadata": {},
   "outputs": [],
   "source": [
    "# Re-order ET observations and join:\n",
    "etobs2 = etobs[['ObsName','Value','OBS_group','variance','WEIGHT']]"
   ]
  },
  {
   "cell_type": "code",
   "execution_count": 25,
   "metadata": {},
   "outputs": [
    {
     "name": "stdout",
     "output_type": "stream",
     "text": [
      "<class 'pandas.core.frame.DataFrame'>\n",
      "Int64Index: 31738 entries, 0 to 26823\n",
      "Data columns (total 5 columns):\n",
      " #   Column     Non-Null Count  Dtype  \n",
      "---  ------     --------------  -----  \n",
      " 0   ObsName    31738 non-null  object \n",
      " 1   Value      31666 non-null  float64\n",
      " 2   OBS_group  31738 non-null  object \n",
      " 3   variance   31738 non-null  float64\n",
      " 4   WEIGHT     31738 non-null  float64\n",
      "dtypes: float64(3), object(2)\n",
      "memory usage: 1.5+ MB\n"
     ]
    }
   ],
   "source": [
    "allobs = etobs2.append(swobs3)\n",
    "allobs.info()"
   ]
  },
  {
   "cell_type": "code",
   "execution_count": 26,
   "metadata": {},
   "outputs": [],
   "source": [
    "allobs.to_csv(os.path.join(OBSDIR, 'ALLOBS.INFO.for.pyemu.csv'))"
   ]
  },
  {
   "cell_type": "markdown",
   "metadata": {},
   "source": [
    "### Investigating weights a little:"
   ]
  },
  {
   "cell_type": "code",
   "execution_count": 28,
   "metadata": {},
   "outputs": [],
   "source": [
    "tmp = allobs.groupby('OBS_group').describe().unstack(1).reset_index()\n",
    "tmp2 = tmp.loc[tmp['level_0'] == 'Value']\n",
    "weights = tmp.loc[tmp['level_0'] == 'WEIGHT']"
   ]
  },
  {
   "cell_type": "code",
   "execution_count": 29,
   "metadata": {},
   "outputs": [
    {
     "name": "stdout",
     "output_type": "stream",
     "text": [
      "<class 'pandas.core.frame.DataFrame'>\n",
      "RangeIndex: 240 entries, 0 to 239\n",
      "Data columns (total 4 columns):\n",
      " #   Column     Non-Null Count  Dtype  \n",
      "---  ------     --------------  -----  \n",
      " 0   level_0    240 non-null    object \n",
      " 1   level_1    240 non-null    object \n",
      " 2   OBS_group  240 non-null    object \n",
      " 3   0          240 non-null    float64\n",
      "dtypes: float64(1), object(3)\n",
      "memory usage: 7.6+ KB\n"
     ]
    }
   ],
   "source": [
    "tmp.info()"
   ]
  },
  {
   "cell_type": "code",
   "execution_count": 30,
   "metadata": {},
   "outputs": [
    {
     "data": {
      "text/html": [
       "<div>\n",
       "<style scoped>\n",
       "    .dataframe tbody tr th:only-of-type {\n",
       "        vertical-align: middle;\n",
       "    }\n",
       "\n",
       "    .dataframe tbody tr th {\n",
       "        vertical-align: top;\n",
       "    }\n",
       "\n",
       "    .dataframe thead th {\n",
       "        text-align: right;\n",
       "    }\n",
       "</style>\n",
       "<table border=\"1\" class=\"dataframe\">\n",
       "  <thead>\n",
       "    <tr style=\"text-align: right;\">\n",
       "      <th>level_1</th>\n",
       "      <th>25%</th>\n",
       "      <th>50%</th>\n",
       "      <th>75%</th>\n",
       "      <th>count</th>\n",
       "      <th>max</th>\n",
       "      <th>mean</th>\n",
       "      <th>min</th>\n",
       "      <th>std</th>\n",
       "    </tr>\n",
       "    <tr>\n",
       "      <th>OBS_group</th>\n",
       "      <th></th>\n",
       "      <th></th>\n",
       "      <th></th>\n",
       "      <th></th>\n",
       "      <th></th>\n",
       "      <th></th>\n",
       "      <th></th>\n",
       "      <th></th>\n",
       "    </tr>\n",
       "  </thead>\n",
       "  <tbody>\n",
       "    <tr>\n",
       "      <th>BF_annual</th>\n",
       "      <td>1.622089</td>\n",
       "      <td>2.343327</td>\n",
       "      <td>3.432541</td>\n",
       "      <td>990.0</td>\n",
       "      <td>6.877255</td>\n",
       "      <td>2.602450</td>\n",
       "      <td>0.183762</td>\n",
       "      <td>1.411297</td>\n",
       "    </tr>\n",
       "    <tr>\n",
       "      <th>BF_monthly</th>\n",
       "      <td>0.540696</td>\n",
       "      <td>0.781109</td>\n",
       "      <td>1.144181</td>\n",
       "      <td>12584.0</td>\n",
       "      <td>2.292418</td>\n",
       "      <td>0.867073</td>\n",
       "      <td>0.061254</td>\n",
       "      <td>0.468293</td>\n",
       "    </tr>\n",
       "    <tr>\n",
       "      <th>RO_annual</th>\n",
       "      <td>1.062626</td>\n",
       "      <td>1.562218</td>\n",
       "      <td>2.294899</td>\n",
       "      <td>980.0</td>\n",
       "      <td>4.584837</td>\n",
       "      <td>1.733820</td>\n",
       "      <td>0.122508</td>\n",
       "      <td>0.945293</td>\n",
       "    </tr>\n",
       "    <tr>\n",
       "      <th>RO_monthly</th>\n",
       "      <td>1.622089</td>\n",
       "      <td>2.343327</td>\n",
       "      <td>3.471774</td>\n",
       "      <td>12270.0</td>\n",
       "      <td>6.877255</td>\n",
       "      <td>2.605089</td>\n",
       "      <td>0.183762</td>\n",
       "      <td>1.411269</td>\n",
       "    </tr>\n",
       "    <tr>\n",
       "      <th>aet-corn</th>\n",
       "      <td>2.440897</td>\n",
       "      <td>3.377105</td>\n",
       "      <td>5.399295</td>\n",
       "      <td>306.0</td>\n",
       "      <td>11.078882</td>\n",
       "      <td>4.064803</td>\n",
       "      <td>0.954397</td>\n",
       "      <td>2.307782</td>\n",
       "    </tr>\n",
       "    <tr>\n",
       "      <th>aet-dcd</th>\n",
       "      <td>3.545329</td>\n",
       "      <td>5.162472</td>\n",
       "      <td>7.816026</td>\n",
       "      <td>1152.0</td>\n",
       "      <td>8.698054</td>\n",
       "      <td>5.524339</td>\n",
       "      <td>1.825542</td>\n",
       "      <td>2.321665</td>\n",
       "    </tr>\n",
       "    <tr>\n",
       "      <th>aet-evr</th>\n",
       "      <td>4.502075</td>\n",
       "      <td>6.603528</td>\n",
       "      <td>8.233104</td>\n",
       "      <td>900.0</td>\n",
       "      <td>10.314655</td>\n",
       "      <td>6.558868</td>\n",
       "      <td>2.866677</td>\n",
       "      <td>2.370642</td>\n",
       "    </tr>\n",
       "    <tr>\n",
       "      <th>aet-rice</th>\n",
       "      <td>2.440472</td>\n",
       "      <td>3.761897</td>\n",
       "      <td>5.329073</td>\n",
       "      <td>252.0</td>\n",
       "      <td>9.748316</td>\n",
       "      <td>4.177104</td>\n",
       "      <td>1.190213</td>\n",
       "      <td>2.160950</td>\n",
       "    </tr>\n",
       "    <tr>\n",
       "      <th>aet-soy</th>\n",
       "      <td>2.058127</td>\n",
       "      <td>3.583993</td>\n",
       "      <td>5.201213</td>\n",
       "      <td>396.0</td>\n",
       "      <td>5.968249</td>\n",
       "      <td>3.572291</td>\n",
       "      <td>1.083911</td>\n",
       "      <td>1.619684</td>\n",
       "    </tr>\n",
       "    <tr>\n",
       "      <th>aet-wet</th>\n",
       "      <td>3.002484</td>\n",
       "      <td>4.549845</td>\n",
       "      <td>5.635283</td>\n",
       "      <td>1908.0</td>\n",
       "      <td>9.665911</td>\n",
       "      <td>4.915012</td>\n",
       "      <td>2.446705</td>\n",
       "      <td>2.177704</td>\n",
       "    </tr>\n",
       "  </tbody>\n",
       "</table>\n",
       "</div>"
      ],
      "text/plain": [
       "level_1          25%       50%       75%    count        max      mean  \\\n",
       "OBS_group                                                                \n",
       "BF_annual   1.622089  2.343327  3.432541    990.0   6.877255  2.602450   \n",
       "BF_monthly  0.540696  0.781109  1.144181  12584.0   2.292418  0.867073   \n",
       "RO_annual   1.062626  1.562218  2.294899    980.0   4.584837  1.733820   \n",
       "RO_monthly  1.622089  2.343327  3.471774  12270.0   6.877255  2.605089   \n",
       "aet-corn    2.440897  3.377105  5.399295    306.0  11.078882  4.064803   \n",
       "aet-dcd     3.545329  5.162472  7.816026   1152.0   8.698054  5.524339   \n",
       "aet-evr     4.502075  6.603528  8.233104    900.0  10.314655  6.558868   \n",
       "aet-rice    2.440472  3.761897  5.329073    252.0   9.748316  4.177104   \n",
       "aet-soy     2.058127  3.583993  5.201213    396.0   5.968249  3.572291   \n",
       "aet-wet     3.002484  4.549845  5.635283   1908.0   9.665911  4.915012   \n",
       "\n",
       "level_1          min       std  \n",
       "OBS_group                       \n",
       "BF_annual   0.183762  1.411297  \n",
       "BF_monthly  0.061254  0.468293  \n",
       "RO_annual   0.122508  0.945293  \n",
       "RO_monthly  0.183762  1.411269  \n",
       "aet-corn    0.954397  2.307782  \n",
       "aet-dcd     1.825542  2.321665  \n",
       "aet-evr     2.866677  2.370642  \n",
       "aet-rice    1.190213  2.160950  \n",
       "aet-soy     1.083911  1.619684  \n",
       "aet-wet     2.446705  2.177704  "
      ]
     },
     "execution_count": 30,
     "metadata": {},
     "output_type": "execute_result"
    }
   ],
   "source": [
    "weights.pivot(index='OBS_group',columns='level_1',values=0)"
   ]
  },
  {
   "cell_type": "code",
   "execution_count": 31,
   "metadata": {},
   "outputs": [],
   "source": [
    "import matplotlib.pyplot as plt"
   ]
  },
  {
   "cell_type": "code",
   "execution_count": 34,
   "metadata": {},
   "outputs": [
    {
     "data": {
      "image/png": "[encoded data removed]",
      "text/plain": [
       "<Figure size 360x288 with 1 Axes>"
      ]
     },
     "metadata": {
      "needs_background": "light"
     },
     "output_type": "display_data"
    }
   ],
   "source": [
    "fig = plt.figure(figsize=(5, 4))\n",
    "figname = 'Initial weights for PEST obs.png'\n",
    "ax1 = fig.add_subplot(1,1,1)\n",
    "\n",
    "allobs.plot.scatter('OBS_group','WEIGHT', ax=ax1)\n",
    "\n",
    "ax1.set_title('Initial Weights for PEST by OBS group')\n",
    "\n",
    "plt.setp( ax1.xaxis.get_majorticklabels(), rotation=45, ha='right')\n",
    "\n",
    "fig.savefig(figname, dpi = (250), bbox_inches='tight')"
   ]
  },
  {
   "cell_type": "code",
   "execution_count": null,
   "metadata": {},
   "outputs": [],
   "source": []
  }
 ],
 "metadata": {
  "kernelspec": {
   "display_name": "Python 3",
   "language": "python",
   "name": "python3"
  },
  "language_info": {
   "codemirror_mode": {
    "name": "ipython",
    "version": 3
   },
   "file_extension": ".py",
   "mimetype": "text/x-python",
   "name": "python",
   "nbconvert_exporter": "python",
   "pygments_lexer": "ipython3",
   "version": "3.7.7"
  }
 },
 "nbformat": 4,
 "nbformat_minor": 4
}
