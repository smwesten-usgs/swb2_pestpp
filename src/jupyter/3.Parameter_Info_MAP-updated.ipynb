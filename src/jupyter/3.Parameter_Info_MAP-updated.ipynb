{
 "cells": [
  {
   "cell_type": "markdown",
   "metadata": {},
   "source": [
    "## Notebook to get parameter info from LOOKUP TABLES for MAP (Landuse and Irrigation)\n",
    "### Script combines all parameters together and makes a .csv file with upper and lower bounds to use with pyemu"
   ]
  },
  {
   "cell_type": "code",
   "execution_count": 1,
   "metadata": {},
   "outputs": [],
   "source": [
    "# Most recent run:\n",
    "# 1/29/2020\n",
    "# 8/10/2020\n",
    "# 9/3/2020 (LU), 9/9/2020 (IRR)"
   ]
  },
  {
   "cell_type": "code",
   "execution_count": 2,
   "metadata": {},
   "outputs": [],
   "source": [
    "import os\n",
    "import numpy as np\n",
    "import time\n",
    "import pandas as pd\n",
    "import shutil"
   ]
  },
  {
   "cell_type": "markdown",
   "metadata": {},
   "source": [
    "### Set path and version for input Excel sheet:"
   ]
  },
  {
   "cell_type": "code",
   "execution_count": 3,
   "metadata": {},
   "outputs": [],
   "source": [
    "# Location of lookup table spreadsheets:\n",
    "\n",
    "pardir = r'E:\\UMID_Data\\0188_offline\\modeldev\\PARS\\TABLES'\n",
    "\n",
    "#landuse_version = 'YETI_Landuse_lookup_table_V4'\n",
    "#irrigation_version = 'YETI_Irrigation_lookup_table_V2'\n",
    "landuse_version = 'YETI_LU_lookup_table_MOREPARS'\n",
    "irrigation_version = 'YETI_IRR_lookup_table_MOREPARS'\n",
    "\n",
    "lufile = landuse_version + '.xlsx'\n",
    "irrfile = irrigation_version + '.xlsx'"
   ]
  },
  {
   "cell_type": "code",
   "execution_count": 4,
   "metadata": {},
   "outputs": [],
   "source": [
    "### Goal is to a) read excel file and find parameters, b) make a dataframe with PARUBND, PARLBND, etc., \n",
    "### c) get data from a second excel file (irrigation), and do the same."
   ]
  },
  {
   "cell_type": "markdown",
   "metadata": {},
   "source": [
    "### Starting with LU Table: Uses the BLUE colored tabs for Parnme and ParVal1"
   ]
  },
  {
   "cell_type": "code",
   "execution_count": 46,
   "metadata": {},
   "outputs": [],
   "source": [
    "# Find starting values for each of these - read in two long lists and delete \"--\"\n",
    "infile = os.path.join(pardir,lufile)\n",
    "\n",
    "pnme = pd.read_excel(infile, 'Parnme', skiprows=3, na_values='--')\n",
    "pval = pd.read_excel(infile, 'ParVal1', skiprows=3, na_values='--')\n",
    "del pnme['Unnamed: 0']\n",
    "del pval['Unnamed: 0']\n",
    "#print (pval.info())\n",
    "#print (pnme.info())"
   ]
  },
  {
   "cell_type": "code",
   "execution_count": 47,
   "metadata": {},
   "outputs": [
    {
     "name": "stdout",
     "output_type": "stream",
     "text": [
      "<class 'pandas.core.frame.DataFrame'>\n",
      "Int64Index: 127 entries, 0 to 126\n",
      "Data columns (total 22 columns):\n",
      " #   Column           Non-Null Count  Dtype \n",
      "---  ------           --------------  ----- \n",
      " 0   description      127 non-null    object\n",
      " 1   cn_1             32 non-null     object\n",
      " 2   cn_2             32 non-null     object\n",
      " 3   cn_3             32 non-null     object\n",
      " 4   cn_4             32 non-null     object\n",
      " 5   cn_5             32 non-null     object\n",
      " 6   cn_6             32 non-null     object\n",
      " 7   cn_7             32 non-null     object\n",
      " 8   max_net_infil_1  32 non-null     object\n",
      " 9   max_net_infil_2  32 non-null     object\n",
      " 10  max_net_infil_3  32 non-null     object\n",
      " 11  max_net_infil_4  32 non-null     object\n",
      " 12  max_net_infil_5  32 non-null     object\n",
      " 13  max_net_infil_6  32 non-null     object\n",
      " 14  max_net_infil_7  32 non-null     object\n",
      " 15  rz_1             32 non-null     object\n",
      " 16  rz_2             32 non-null     object\n",
      " 17  rz_3             32 non-null     object\n",
      " 18  rz_4             32 non-null     object\n",
      " 19  rz_5             32 non-null     object\n",
      " 20  rz_6             32 non-null     object\n",
      " 21  rz_7             32 non-null     object\n",
      "dtypes: object(22)\n",
      "memory usage: 22.8+ KB\n",
      "None\n",
      "     index     description variable     ParName            Index_Loc\n",
      "539   2111  Woody Wetlands     rz_3   wetf_c_rz  Woody Wetlands:rz_3\n",
      "571   2238  Woody Wetlands     rz_4   wetf_d_rz  Woody Wetlands:rz_4\n",
      "603   2365  Woody Wetlands     rz_5  wetf_ad_rz  Woody Wetlands:rz_5\n",
      "635   2492  Woody Wetlands     rz_6  wetf_bd_rz  Woody Wetlands:rz_6\n",
      "667   2619  Woody Wetlands     rz_7  wetf_cd_rz  Woody Wetlands:rz_7\n"
     ]
    }
   ],
   "source": [
    "# Get the ParName list\n",
    "test = pnme[~pnme.applymap(np.isreal).all(1)]\n",
    "# This reduces the columns to ones that have text values:\n",
    "test2 = test.select_dtypes(include='object')\n",
    "print (test2.info())\n",
    "test5 = pd.melt(test2, id_vars='description', value_name='ParName').dropna()\n",
    "test6 = test5.apply(lambda x: x.str.strip('~'))\n",
    "test7 = test6.apply(lambda x: x.str.strip()).reset_index()\n",
    "\n",
    "# Create index location for the values:\n",
    "test7['Index_Loc'] = test7['description'] + \":\" + test7['variable']\n",
    "test8 = test7.sort_values('Index_Loc')\n",
    "print (test8.tail())"
   ]
  },
  {
   "cell_type": "code",
   "execution_count": 48,
   "metadata": {},
   "outputs": [
    {
     "name": "stdout",
     "output_type": "stream",
     "text": [
      "       Index_Loc   ParVal\n",
      "69   Barren:cn_1  81.4000\n",
      "196  Barren:cn_2  88.4308\n",
      "323  Barren:cn_3  92.3554\n",
      "450  Barren:cn_4  93.8992\n",
      "577  Barren:cn_5  81.4000\n"
     ]
    }
   ],
   "source": [
    "# Get the ParVal list\n",
    "t3 = pval[~pval.applymap(np.isreal).all(1)]\n",
    "t4 = t3.select_dtypes(include=['float64','object'])\n",
    "#print (test2.info())\n",
    "t5 = pd.melt(t4, id_vars='description', value_name='ParVal').dropna()\n",
    "t5 = t5.applymap(lambda x: str(x).strip() if len(str(x).strip()) else None)  # Important - stripped off leading spaces\n",
    "\n",
    "# Create index location for the values:\n",
    "t5['Index_Loc'] = t5['description'] + \":\" + t5['variable']\n",
    "t6 = t5[['Index_Loc','ParVal']].sort_values('Index_Loc')\n",
    "t6.ParVal = t6.ParVal.astype(np.float64)\n",
    "print (t6.head())"
   ]
  },
  {
   "cell_type": "code",
   "execution_count": 49,
   "metadata": {
    "scrolled": false
   },
   "outputs": [
    {
     "name": "stdout",
     "output_type": "stream",
     "text": [
      "<class 'pandas.core.frame.DataFrame'>\n",
      "Int64Index: 277 entries, 0 to 671\n",
      "Data columns (total 6 columns):\n",
      " #   Column       Non-Null Count  Dtype  \n",
      "---  ------       --------------  -----  \n",
      " 0   index        277 non-null    int64  \n",
      " 1   description  277 non-null    object \n",
      " 2   variable     277 non-null    object \n",
      " 3   ParName      277 non-null    object \n",
      " 4   Index_Loc    277 non-null    object \n",
      " 5   ParVal       277 non-null    float64\n",
      "dtypes: float64(1), int64(1), object(4)\n",
      "memory usage: 15.1+ KB\n",
      "None\n"
     ]
    }
   ],
   "source": [
    "# Join these together, remove the many duplicated items:\n",
    "parvals = pd.merge(test8, t6, how='inner', on='Index_Loc', \n",
    "                   right_index=False, left_index=False, copy=False).drop_duplicates(['ParName','ParVal'])\n",
    "print (parvals.info())"
   ]
  },
  {
   "cell_type": "code",
   "execution_count": 50,
   "metadata": {},
   "outputs": [],
   "source": [
    "# Look for duplicated ParName with different ParVals - fix in spreadsheet:\n",
    "\n",
    "# ADD CODE HERE to find items, fix in spreadsheet until they are gone."
   ]
  },
  {
   "cell_type": "code",
   "execution_count": 51,
   "metadata": {},
   "outputs": [
    {
     "name": "stdout",
     "output_type": "stream",
     "text": [
      "<class 'pandas.core.frame.DataFrame'>\n",
      "Int64Index: 0 entries\n",
      "Data columns (total 6 columns):\n",
      " #   Column       Non-Null Count  Dtype  \n",
      "---  ------       --------------  -----  \n",
      " 0   index        0 non-null      int64  \n",
      " 1   description  0 non-null      object \n",
      " 2   variable     0 non-null      object \n",
      " 3   ParName      0 non-null      object \n",
      " 4   Index_Loc    0 non-null      object \n",
      " 5   ParVal       0 non-null      float64\n",
      "dtypes: float64(1), int64(1), object(4)\n",
      "memory usage: 0.0+ bytes\n"
     ]
    }
   ],
   "source": [
    "mask = parvals.ParName.duplicated(keep=False)\n",
    "dupes = (parvals[mask]).sort_values(['ParName'])\n",
    "mask2 = dupes.duplicated(['ParName','ParVal'], keep=False)\n",
    "# Want this to be empty:\n",
    "realdupes = (dupes[~mask2])\n",
    "realdupes.info()"
   ]
  },
  {
   "cell_type": "code",
   "execution_count": 52,
   "metadata": {},
   "outputs": [],
   "source": [
    "realdupes.to_csv('landuse_pars_to_clean_up.csv')"
   ]
  },
  {
   "cell_type": "markdown",
   "metadata": {},
   "source": [
    "### REPEAT for the Irrigation table:"
   ]
  },
  {
   "cell_type": "code",
   "execution_count": 39,
   "metadata": {},
   "outputs": [],
   "source": [
    "# Find starting values for each of these - read in two long lists and delete \"--\"\n",
    "infile = os.path.join(pardir,irrfile)\n",
    "\n",
    "pnme2 = pd.read_excel(infile, 'Parnme', skiprows=2, na_values='--')\n",
    "pval2 = pd.read_excel(infile, 'ParVal1', skiprows=2, na_values='--')\n",
    "del pnme2['Unnamed: 0']\n",
    "del pval2['Unnamed: 0']\n",
    "#print (pval.info())"
   ]
  },
  {
   "cell_type": "code",
   "execution_count": 40,
   "metadata": {},
   "outputs": [
    {
     "name": "stdout",
     "output_type": "stream",
     "text": [
      "     index          description variable       ParName  \\\n",
      "449   1977         Mixed Forest    tew_7  decid_cd_tew   \n",
      "450   1979            Shrubland    tew_7  shrub_cd_tew   \n",
      "451   1981    Grassland/Pasture    tew_7  crop3_cd_tew   \n",
      "452   1984       Woody Wetlands    tew_7   wetf_cd_tew   \n",
      "453   1985  Herbaceous Wetlands    tew_7  wetem_cd_tew   \n",
      "\n",
      "                     Index_Loc  \n",
      "449         Mixed Forest:tew_7  \n",
      "450            Shrubland:tew_7  \n",
      "451    Grassland/Pasture:tew_7  \n",
      "452       Woody Wetlands:tew_7  \n",
      "453  Herbaceous Wetlands:tew_7  \n"
     ]
    }
   ],
   "source": [
    "# Get the ParName list\n",
    "irr1 = pnme2[~pnme2.applymap(np.isreal).all(1)]\n",
    "irr2 = irr1.select_dtypes(include='object')\n",
    "#print (test2)\n",
    "irr3 = pd.melt(irr2, id_vars='description', value_name='ParName').dropna()\n",
    "irr4 = irr3.apply(lambda x: x.str.strip('~'))\n",
    "irr5 = irr4.apply(lambda x: x.str.strip()).reset_index()\n",
    "\n",
    "# Create index location for the values:\n",
    "irr5['Index_Loc'] = irr5['description'] + \":\" + irr5['variable']\n",
    "print (irr5.tail())"
   ]
  },
  {
   "cell_type": "code",
   "execution_count": 41,
   "metadata": {},
   "outputs": [
    {
     "name": "stdout",
     "output_type": "stream",
     "text": [
      "<class 'pandas.core.frame.DataFrame'>\n",
      "Int64Index: 454 entries, 0 to 4144\n",
      "Data columns (total 2 columns):\n",
      " #   Column     Non-Null Count  Dtype  \n",
      "---  ------     --------------  -----  \n",
      " 0   Index_Loc  454 non-null    object \n",
      " 1   ParVal     454 non-null    float64\n",
      "dtypes: float64(1), object(1)\n",
      "memory usage: 10.6+ KB\n",
      "None\n"
     ]
    }
   ],
   "source": [
    "# Get the ParVal list\n",
    "t10 = pval2[~pval2.applymap(np.isreal).all(1)]\n",
    "t11 = t10.select_dtypes(include=['float64','object'])\n",
    "#print (test2)\n",
    "t12 = pd.melt(t11, id_vars='description', value_name='ParVal').dropna()\n",
    "t12 = t12.applymap(lambda x: str(x).strip() if len(str(x).strip()) else None)  # Important - stripped off leading spaces\n",
    "\n",
    "# Create index location for the values:\n",
    "t12['Index_Loc'] = t12['description'] + \":\" + t12['variable']\n",
    "t13 = t12[['Index_Loc','ParVal']].copy()\n",
    "t13.ParVal = t13.ParVal.astype(np.float64)\n",
    "print (t13.info())"
   ]
  },
  {
   "cell_type": "code",
   "execution_count": 42,
   "metadata": {
    "scrolled": false
   },
   "outputs": [
    {
     "name": "stdout",
     "output_type": "stream",
     "text": [
      "<class 'pandas.core.frame.DataFrame'>\n",
      "Int64Index: 217 entries, 0 to 453\n",
      "Data columns (total 6 columns):\n",
      " #   Column       Non-Null Count  Dtype  \n",
      "---  ------       --------------  -----  \n",
      " 0   index        217 non-null    int64  \n",
      " 1   description  217 non-null    object \n",
      " 2   variable     217 non-null    object \n",
      " 3   ParName      217 non-null    object \n",
      " 4   Index_Loc    217 non-null    object \n",
      " 5   ParVal       217 non-null    float64\n",
      "dtypes: float64(1), int64(1), object(4)\n",
      "memory usage: 11.9+ KB\n",
      "None\n"
     ]
    }
   ],
   "source": [
    "# Join these together:\n",
    "parvals_irr = pd.merge(irr5, t13, how='outer', on='Index_Loc').drop_duplicates(['ParName','ParVal'])\n",
    "print (parvals_irr.info())"
   ]
  },
  {
   "cell_type": "code",
   "execution_count": 43,
   "metadata": {},
   "outputs": [],
   "source": [
    "# Look for duplicated ParName with different ParVals - fix in spreadsheet:\n",
    "\n",
    "# ADD CODE HERE to find items, fix in spreadsheet until they are gone."
   ]
  },
  {
   "cell_type": "code",
   "execution_count": 44,
   "metadata": {},
   "outputs": [
    {
     "name": "stdout",
     "output_type": "stream",
     "text": [
      "<class 'pandas.core.frame.DataFrame'>\n",
      "Int64Index: 0 entries\n",
      "Data columns (total 6 columns):\n",
      " #   Column       Non-Null Count  Dtype  \n",
      "---  ------       --------------  -----  \n",
      " 0   index        0 non-null      int64  \n",
      " 1   description  0 non-null      object \n",
      " 2   variable     0 non-null      object \n",
      " 3   ParName      0 non-null      object \n",
      " 4   Index_Loc    0 non-null      object \n",
      " 5   ParVal       0 non-null      float64\n",
      "dtypes: float64(1), int64(1), object(4)\n",
      "memory usage: 0.0+ bytes\n"
     ]
    }
   ],
   "source": [
    "mask = parvals_irr.ParName.duplicated(keep=False)\n",
    "dupes = (parvals_irr[mask]).sort_values(['ParName'])\n",
    "mask2 = dupes.duplicated(['ParName','ParVal'], keep=False)\n",
    "# Want this to be empty:\n",
    "realdupes = (dupes[~mask2])\n",
    "realdupes.info()"
   ]
  },
  {
   "cell_type": "code",
   "execution_count": 45,
   "metadata": {},
   "outputs": [],
   "source": [
    "realdupes.to_csv('irrigation_pars_to_clean_up.csv')"
   ]
  },
  {
   "cell_type": "markdown",
   "metadata": {},
   "source": [
    "## Join LU and IRR pars together:"
   ]
  },
  {
   "cell_type": "code",
   "execution_count": 53,
   "metadata": {
    "scrolled": true
   },
   "outputs": [
    {
     "name": "stdout",
     "output_type": "stream",
     "text": [
      "<class 'pandas.core.frame.DataFrame'>\n",
      "RangeIndex: 494 entries, 0 to 493\n",
      "Data columns (total 7 columns):\n",
      " #   Column       Non-Null Count  Dtype  \n",
      "---  ------       --------------  -----  \n",
      " 0   level_0      494 non-null    int64  \n",
      " 1   index        494 non-null    int64  \n",
      " 2   description  494 non-null    object \n",
      " 3   variable     494 non-null    object \n",
      " 4   ParName      494 non-null    object \n",
      " 5   Index_Loc    494 non-null    object \n",
      " 6   ParVal       494 non-null    float64\n",
      "dtypes: float64(1), int64(2), object(4)\n",
      "memory usage: 27.1+ KB\n",
      "None\n"
     ]
    }
   ],
   "source": [
    "pars_all = parvals.append(parvals_irr, ignore_index=False).reset_index()\n",
    "print (pars_all.info())"
   ]
  },
  {
   "cell_type": "code",
   "execution_count": 54,
   "metadata": {},
   "outputs": [
    {
     "name": "stdout",
     "output_type": "stream",
     "text": [
      "Empty DataFrame\n",
      "Columns: [level_0, index, description, variable, ParName, Index_Loc, ParVal]\n",
      "Index: []\n"
     ]
    }
   ],
   "source": [
    "# Find any duplicates:\n",
    "#mask = df.B.duplicated(keep=False)\n",
    "mask = pars_all.ParName.duplicated(keep=False)\n",
    "print (pars_all[mask])"
   ]
  },
  {
   "cell_type": "code",
   "execution_count": 55,
   "metadata": {},
   "outputs": [
    {
     "name": "stdout",
     "output_type": "stream",
     "text": [
      "<class 'pandas.core.frame.DataFrame'>\n",
      "Int64Index: 494 entries, 0 to 493\n",
      "Data columns (total 7 columns):\n",
      " #   Column       Non-Null Count  Dtype  \n",
      "---  ------       --------------  -----  \n",
      " 0   level_0      494 non-null    int64  \n",
      " 1   index        494 non-null    int64  \n",
      " 2   description  494 non-null    object \n",
      " 3   variable     494 non-null    object \n",
      " 4   ParName      494 non-null    object \n",
      " 5   Index_Loc    494 non-null    object \n",
      " 6   ParVal       494 non-null    float64\n",
      "dtypes: float64(1), int64(2), object(4)\n",
      "memory usage: 30.9+ KB\n"
     ]
    }
   ],
   "source": [
    "# If needed, remove duplicates\n",
    "pars_all = pars_all.drop_duplicates(['ParName']).copy()\n",
    "pars_all['ParName'] = pars_all['ParName'].str.lower()\n",
    "pars_all.info()"
   ]
  },
  {
   "cell_type": "code",
   "execution_count": 56,
   "metadata": {},
   "outputs": [
    {
     "name": "stdout",
     "output_type": "stream",
     "text": [
      "     level_0  index                 description variable       ParName  \\\n",
      "484      436   1932       Other Hay/Non Alfalfa    tew_7  crop3_cd_tew   \n",
      "485      438   1939                   Sugarcane    tew_7  sugcn_cd_tew   \n",
      "486      442   1970        Developed/Open Space    tew_7  dvlow_cd_tew   \n",
      "487      444   1972  Developed/Medium Intensity    tew_7  dvmhi_cd_tew   \n",
      "488      446   1974                      Barren    tew_7   bare_cd_tew   \n",
      "489      447   1975            Deciduous Forest    tew_7  decid_cd_tew   \n",
      "490      448   1976            Evergreen Forest    tew_7   evgr_cd_tew   \n",
      "491      450   1979                   Shrubland    tew_7  shrub_cd_tew   \n",
      "492      452   1984              Woody Wetlands    tew_7   wetf_cd_tew   \n",
      "493      453   1985         Herbaceous Wetlands    tew_7  wetem_cd_tew   \n",
      "\n",
      "                            Index_Loc  ParVal  \n",
      "484       Other Hay/Non Alfalfa:tew_7   1.063  \n",
      "485                   Sugarcane:tew_7   1.063  \n",
      "486        Developed/Open Space:tew_7   0.410  \n",
      "487  Developed/Medium Intensity:tew_7   0.410  \n",
      "488                      Barren:tew_7   1.063  \n",
      "489            Deciduous Forest:tew_7   0.410  \n",
      "490            Evergreen Forest:tew_7   0.410  \n",
      "491                   Shrubland:tew_7   0.410  \n",
      "492              Woody Wetlands:tew_7   0.620  \n",
      "493         Herbaceous Wetlands:tew_7   1.063  \n"
     ]
    }
   ],
   "source": [
    "print (pars_all.tail(10))"
   ]
  },
  {
   "cell_type": "code",
   "execution_count": 57,
   "metadata": {},
   "outputs": [
    {
     "name": "stdout",
     "output_type": "stream",
     "text": [
      "['bare_a_cn' 'bare_b_cn' 'bare_c_cn' 'bare_d_cn' 'bare_a_mni' 'bare_b_mni'\n",
      " 'bare_c_mni' 'bare_d_mni' 'bare_ad_mni' 'bare_bd_mni' 'bare_cd_mni'\n",
      " 'bare_a_rz' 'bare_b_rz' 'bare_c_rz' 'bare_d_rz' 'bare_ad_rz' 'bare_bd_rz'\n",
      " 'bare_cd_rz' 'crop1_a_cn' 'crop1_b_cn' 'crop1_c_cn' 'crop1_d_cn'\n",
      " 'crop1_a_mni' 'crop1_b_mni' 'crop1_c_mni' 'crop1_d_mni' 'crop1_ad_mni'\n",
      " 'crop1_bd_mni' 'crop1_cd_mni' 'crop1_a_rz' 'crop1_b_rz' 'crop1_c_rz'\n",
      " 'crop1_d_rz' 'crop1_ad_rz' 'crop1_bd_rz' 'crop1_cd_rz' 'cot_a_cn'\n",
      " 'cot_b_cn' 'cot_c_cn' 'cot_d_cn' 'cot_a_mni' 'cot_b_mni' 'cot_c_mni'\n",
      " 'cot_d_mni' 'cot_ad_mni' 'cot_bd_mni' 'cot_cd_mni' 'cot_a_rz' 'cot_b_rz'\n",
      " 'cot_c_rz' 'cot_d_rz' 'cot_ad_rz' 'cot_bd_rz' 'cot_cd_rz' 'crop2_a_cn'\n",
      " 'crop2_b_cn' 'crop2_c_cn' 'crop2_d_cn' 'crop2_a_mni' 'crop2_b_mni'\n",
      " 'crop2_c_mni' 'crop2_d_mni' 'crop2_ad_mni' 'crop2_bd_mni' 'crop2_cd_mni'\n",
      " 'crop2_a_rz' 'crop2_b_rz' 'crop2_c_rz' 'crop2_d_rz' 'crop2_ad_rz'\n",
      " 'crop2_bd_rz' 'crop2_cd_rz' 'decid_a_cn' 'decid_b_cn' 'decid_c_cn'\n",
      " 'decid_d_cn' 'decid_a_mni' 'decid_b_mni' 'decid_c_mni' 'decid_d_mni'\n",
      " 'decid_ad_mni' 'decid_bd_mni' 'decid_cd_mni' 'decid_a_rz' 'decid_b_rz'\n",
      " 'decid_c_rz' 'decid_d_rz' 'decid_ad_rz' 'decid_bd_rz' 'decid_cd_rz'\n",
      " 'dvmhi_a_cn' 'dvmhi_b_cn' 'dvmhi_c_cn' 'dvmhi_d_cn' 'dvmhi_a_mni'\n",
      " 'dvmhi_b_mni' 'dvmhi_c_mni' 'dvmhi_d_mni' 'dvmhi_ad_mni' 'dvmhi_bd_mni'\n",
      " 'dvmhi_cd_mni' 'dvmhi_a_rz' 'dvmhi_b_rz' 'dvmhi_c_rz' 'dvmhi_d_rz'\n",
      " 'dvmhi_ad_rz' 'dvmhi_bd_rz' 'dvmhi_cd_rz' 'dvlow_a_cn' 'dvlow_b_cn'\n",
      " 'dvlow_c_cn' 'dvlow_d_cn' 'dvlow_a_mni' 'dvlow_b_mni' 'dvlow_c_mni'\n",
      " 'dvlow_d_mni' 'dvlow_ad_mni' 'dvlow_bd_mni' 'dvlow_cd_mni' 'dvlow_a_rz'\n",
      " 'dvlow_b_rz' 'dvlow_c_rz' 'dvlow_d_rz' 'dvlow_ad_rz' 'dvlow_bd_rz'\n",
      " 'dvlow_cd_rz' 'evrgr_a_cn' 'evrgr_b_cn' 'evrgr_c_cn' 'evrgr_d_cn'\n",
      " 'evrgr_a_mni' 'evrgr_b_mni' 'evrgr_c_mni' 'evrgr_d_mni' 'evrgr_ad_mni'\n",
      " 'evrgr_bd_mni' 'evrgr_cd_mni' 'evrgr_a_rz' 'evrgr_b_rz' 'evrgr_c_rz'\n",
      " 'evrgr_d_rz' 'evrgr_ad_rz' 'evrgr_bd_rz' 'evrgr_cd_rz' 'crop3_a_cn'\n",
      " 'crop3_b_cn' 'crop3_c_cn' 'crop3_d_cn' 'crop3_a_mni' 'crop3_b_mni'\n",
      " 'crop3_c_mni' 'crop3_d_mni' 'crop3_ad_mni' 'crop3_bd_mni' 'crop3_cd_mni'\n",
      " 'crop3_a_rz' 'crop3_b_rz' 'crop3_c_rz' 'crop3_d_rz' 'crop3_ad_rz'\n",
      " 'crop3_bd_rz' 'crop3_cd_rz' 'grass_a_rz' 'grass_b_rz' 'grass_c_rz'\n",
      " 'grass_d_rz' 'grass_ad_rz' 'grass_bd_rz' 'grass_cd_rz' 'wetem_a_cn'\n",
      " 'wetem_b_cn' 'wetem_c_cn' 'wetem_d_cn' 'wetem_a_mni' 'wetem_b_mni'\n",
      " 'wetem_c_mni' 'wetem_d_mni' 'wetem_ad_mni' 'wetem_bd_mni' 'wetem_cd_mni'\n",
      " 'wetem_a_rz' 'wetem_b_rz' 'wetem_c_rz' 'wetem_d_rz' 'wetem_ad_rz'\n",
      " 'wetem_bd_rz' 'wetem_cd_rz' 'mixf_a_cn' 'mixf_b_cn' 'mixf_c_cn'\n",
      " 'mixf_d_cn' 'mixf_a_mni' 'mixf_b_mni' 'mixf_c_mni' 'mixf_d_mni'\n",
      " 'mixf_ad_mni' 'mixf_bd_mni' 'mixf_cd_mni' 'mixf_a_rz' 'mixf_b_rz'\n",
      " 'mixf_c_rz' 'mixf_d_rz' 'mixf_ad_rz' 'mixf_bd_rz' 'mixf_cd_rz'\n",
      " 'rice_a_cn' 'rice_b_cn' 'rice_c_cn' 'rice_d_cn' 'rice_a_mni' 'rice_b_mni'\n",
      " 'rice_c_mni' 'rice_d_mni' 'rice_ad_mni' 'rice_bd_mni' 'rice_cd_mni'\n",
      " 'rice_a_rz' 'rice_b_rz' 'rice_c_rz' 'rice_d_rz' 'rice_ad_rz' 'rice_bd_rz'\n",
      " 'rice_cd_rz' 'shrub_a_cn' 'shrub_b_cn' 'shrub_c_cn' 'shrub_d_cn'\n",
      " 'shrub_a_mni' 'shrub_b_mni' 'shrub_c_mni' 'shrub_d_mni' 'shrub_ad_mni'\n",
      " 'shrub_bd_mni' 'shrub_cd_mni' 'shrub_a_rz' 'shrub_b_rz' 'shrub_c_rz'\n",
      " 'shrub_d_rz' 'shrub_ad_rz' 'shrub_bd_rz' 'shrub_cd_rz' 'sugcn_a_cn'\n",
      " 'sugcn_b_cn' 'sugcn_c_cn' 'sugcn_d_cn' 'sugcn_a_mni' 'sugcn_b_mni'\n",
      " 'sugcn_c_mni' 'sugcn_d_mni' 'sugcn_ad_mni' 'sugcn_bd_mni' 'sugcn_cd_mni'\n",
      " 'sugcn_a_rz' 'sugcn_b_rz' 'sugcn_c_rz' 'sugcn_d_rz' 'sugcn_ad_rz'\n",
      " 'sugcn_bd_rz' 'sugcn_cd_rz' 'wetf_a_cn' 'wetf_b_cn' 'wetf_c_cn'\n",
      " 'wetf_d_cn' 'wetf_a_mni' 'wetf_b_mni' 'wetf_c_mni' 'wetf_d_mni'\n",
      " 'wetf_ad_mni' 'wetf_bd_mni' 'wetf_cd_mni' 'wetf_a_rz' 'wetf_b_rz'\n",
      " 'wetf_c_rz' 'wetf_d_rz' 'wetf_ad_rz' 'wetf_bd_rz' 'wetf_cd_rz'\n",
      " 'cor_height' 'ric_height' 'soy_height' 'wetem_height' 'decid_height'\n",
      " 'evrg_height' 'past_height' 'wetf_height' 'cor_kcb-mid' 'cot_kcb-mid'\n",
      " 'rice_kcb-mid' 'sorg_kcb-mid' 'soy_kcb-mid' 'wht_kcb-mid' 'past_kcb-mid'\n",
      " 'cane_kcb-mid' 'sod_kcb-mid' 'wtem_kcb-mid' 'dvos_kcb-mid' 'dvlw_kcb-mid'\n",
      " 'dvmd_kcb-mid' 'dvhi_kcb-mid' 'barr_kcb-mid' 'dcd_kcb-mid' 'evrg_kcb-mid'\n",
      " 'shrb_kcb-mid' 'wetf_kcb-mid' 'crop1_a_rew' 'cot_a_rew' 'rice_a_rew'\n",
      " 'crop2_a_rew' 'crop3_a_rew' 'dvlow_a_rew' 'dvmhi_a_rew' 'bare_a_rew'\n",
      " 'decid_a_rew' 'evgr_a_rew' 'shrub_a_rew' 'wetf_a_rew' 'wetem_a_rew'\n",
      " 'crop1_b_rew' 'cot_b_rew' 'rice_b_rew' 'crop2_b_rew' 'crop3_b_rew'\n",
      " 'sugcn_b_rew' 'dvlow_b_rew' 'dvmhi_b_rew' 'bare_b_rew' 'decid_b_rew'\n",
      " 'evgr_b_rew' 'shrub_b_rew' 'wetf_b_rew' 'wetem_b_rew' 'crop1_c_rew'\n",
      " 'cot_c_rew' 'rice_c_rew' 'crop2_c_rew' 'crop3_c_rew' 'sugcn_c_rew'\n",
      " 'dvlow_c_rew' 'dvmhi_c_rew' 'bare_c_rew' 'decid_c_rew' 'evgr_c_rew'\n",
      " 'shrub_c_rew' 'wetf_c_rew' 'wetem_c_rew' 'crop1_d_rew' 'cot_d_rew'\n",
      " 'rice_d_rew' 'crop2_d_rew' 'crop3_d_rew' 'sugcn_d_rew' 'dvlow_d_rew'\n",
      " 'dvmhi_d_rew' 'bare_d_rew' 'decid_d_rew' 'evgr_d_rew' 'shrub_d_rew'\n",
      " 'wetf_d_rew' 'wetem_d_rew' 'crop1_ad_rew' 'cot_ad_rew' 'rice_ad_rew'\n",
      " 'crop2_ad_rew' 'crop3_ad_rew' 'dvlow_ad_rew' 'dvmhi_ad_rew' 'bare_ad_rew'\n",
      " 'decid_ab_rew' 'evgr_ad_rew' 'shrub_ad_rew' 'wetf_ad_rew' 'wetem_ad_rew'\n",
      " 'crop1_bd_rew' 'cot_bd_rew' 'rice_bd_rew' 'crop2_bd_rew' 'crop3_bd_rew'\n",
      " 'dvlow_bd_rew' 'dvmhi_bd_rew' 'bare_bd_rew' 'decid_bd_rew' 'evgr_bd_rew'\n",
      " 'shrub_bd_rew' 'wetf_bd_rew' 'wetem_bd_rew' 'crop1_cd_rew' 'cot_cd_rew'\n",
      " 'rice_cd_rew' 'crop2_cd_rew' 'crop3_cd_rew' 'sugcn_cd_rew' 'dvlow_cd_rew'\n",
      " 'dvmhi_cd_rew' 'bare_cd_rew' 'decid_cd_rew' 'evgr_cd_rew' 'shrub_cd_rew'\n",
      " 'wetf_cd_rew' 'wetem_cd_rew' 'crop1_a_tew' 'cot_a_tew' 'rice_a_tew'\n",
      " 'crop2_a_tew' 'crop3_a_tew' 'dvlow_a_tew' 'dvmhi_a_tew' 'bare_a_tew'\n",
      " 'decid_a_tew' 'evgr_a_tew' 'shrub_a_tew' 'wetf_a_tew' 'wetem_a_tew'\n",
      " 'crop1_b_tew' 'cot_b_tew' 'rice_b_tew' 'crop2_b_tew' 'crop3_b_tew'\n",
      " 'sugcn_b_tew' 'dvlow_b_tew' 'dvmhi_b_tew' 'bare_b_tew' 'decid_b_tew'\n",
      " 'evgr_b_tew' 'shrub_b_tew' 'wetf_b_tew' 'wetem_b_tew' 'crop1_c_tew'\n",
      " 'cot_c_tew' 'rice_c_tew' 'crop2_c_tew' 'crop3_c_tew' 'sugcn_c_tew'\n",
      " 'dvlow_c_tew' 'dvmhi_c_tew' 'bare_c_tew' 'decid_c_tew' 'evgr_c_tew'\n",
      " 'shrub_c_tew' 'wetf_c_tew' 'wetem_c_tew' 'crop1_d_tew' 'cot_d_tew'\n",
      " 'rice_d_tew' 'crop2_d_tew' 'crop3_d_tew' 'sugcn_d_tew' 'dvlow_d_tew'\n",
      " 'dvmhi_d_tew' 'bare_d_tew' 'decid_d_tew' 'evgr_d_tew' 'shrub_d_tew'\n",
      " 'wetf_d_tew' 'wetem_d_tew' 'crop1_ad_tew' 'cot_ad_tew' 'rice_ad_tew'\n",
      " 'crop2_ad_tew' 'crop3_ad_tew' 'dvlow_ad_tew' 'dvmhi_ad_tew' 'bare_ad_tew'\n",
      " 'decid_ab_tew' 'evgr_ad_tew' 'shrub_ad_tew' 'wetf_ad_tew' 'wetem_ad_tew'\n",
      " 'crop1_bd_tew' 'cot_bd_tew' 'rice_bd_tew' 'crop2_bd_tew' 'crop3_bd_tew'\n",
      " 'dvlow_bd_tew' 'dvmhi_bd_tew' 'bare_bd_tew' 'decid_bd_tew' 'evgr_bd_tew'\n",
      " 'shrub_bd_tew' 'wetf_bd_tew' 'wetem_bd_tew' 'crop1_cd_tew' 'cot_cd_tew'\n",
      " 'rice_cd_tew' 'crop2_cd_tew' 'crop3_cd_tew' 'sugcn_cd_tew' 'dvlow_cd_tew'\n",
      " 'dvmhi_cd_tew' 'bare_cd_tew' 'decid_cd_tew' 'evgr_cd_tew' 'shrub_cd_tew'\n",
      " 'wetf_cd_tew' 'wetem_cd_tew']\n"
     ]
    }
   ],
   "source": [
    "print (pars_all.ParName.unique())"
   ]
  },
  {
   "cell_type": "markdown",
   "metadata": {},
   "source": [
    "### Need to set parameter upper and lower bounds, par groups"
   ]
  },
  {
   "cell_type": "markdown",
   "metadata": {},
   "source": [
    "### Par Groups:"
   ]
  },
  {
   "cell_type": "code",
   "execution_count": 58,
   "metadata": {},
   "outputs": [
    {
     "name": "stdout",
     "output_type": "stream",
     "text": [
      "     level_0  index          description variable       ParName  \\\n",
      "489      447   1975     Deciduous Forest    tew_7  decid_cd_tew   \n",
      "490      448   1976     Evergreen Forest    tew_7   evgr_cd_tew   \n",
      "491      450   1979            Shrubland    tew_7  shrub_cd_tew   \n",
      "492      452   1984       Woody Wetlands    tew_7   wetf_cd_tew   \n",
      "493      453   1985  Herbaceous Wetlands    tew_7  wetem_cd_tew   \n",
      "\n",
      "                     Index_Loc  ParVal ParGroup  \n",
      "489     Deciduous Forest:tew_7   0.410      tew  \n",
      "490     Evergreen Forest:tew_7   0.410      tew  \n",
      "491            Shrubland:tew_7   0.410      tew  \n",
      "492       Woody Wetlands:tew_7   0.620      tew  \n",
      "493  Herbaceous Wetlands:tew_7   1.063      tew  \n"
     ]
    }
   ],
   "source": [
    "# First, the PAR GROUPS:\n",
    "pars_all['ParGroup'] = pars_all['ParName'].str.split(\"_\").str[-1]\n",
    "print (pars_all.tail())"
   ]
  },
  {
   "cell_type": "code",
   "execution_count": 59,
   "metadata": {},
   "outputs": [
    {
     "name": "stdout",
     "output_type": "stream",
     "text": [
      "['cn' 'mni' 'rz' 'height' 'kcb-mid' 'rew' 'tew']\n",
      "<class 'pandas.core.frame.DataFrame'>\n",
      "Int64Index: 494 entries, 0 to 493\n",
      "Data columns (total 8 columns):\n",
      " #   Column       Non-Null Count  Dtype  \n",
      "---  ------       --------------  -----  \n",
      " 0   level_0      494 non-null    int64  \n",
      " 1   index        494 non-null    int64  \n",
      " 2   description  494 non-null    object \n",
      " 3   variable     494 non-null    object \n",
      " 4   ParName      494 non-null    object \n",
      " 5   Index_Loc    494 non-null    object \n",
      " 6   ParVal       494 non-null    float64\n",
      " 7   ParGroup     494 non-null    object \n",
      "dtypes: float64(1), int64(2), object(5)\n",
      "memory usage: 34.7+ KB\n",
      "None\n"
     ]
    }
   ],
   "source": [
    "print (pars_all['ParGroup'].unique())\n",
    "print (pars_all.info())"
   ]
  },
  {
   "cell_type": "markdown",
   "metadata": {},
   "source": [
    "### Upper and Lower Bounds:"
   ]
  },
  {
   "cell_type": "code",
   "execution_count": 60,
   "metadata": {},
   "outputs": [
    {
     "name": "stdout",
     "output_type": "stream",
     "text": [
      "   level_0  index description         variable     ParName  \\\n",
      "0        0     69      Barren             cn_1   bare_a_cn   \n",
      "1        1    196      Barren             cn_2   bare_b_cn   \n",
      "2        2    323      Barren             cn_3   bare_c_cn   \n",
      "3        3    450      Barren             cn_4   bare_d_cn   \n",
      "4        7    958      Barren  max_net_infil_1  bare_a_mni   \n",
      "\n",
      "                Index_Loc   ParVal ParGroup  ParUBND   ParLBND      tmp  \n",
      "0             Barren:cn_1  81.4000       cn  90.2000   55.7000  55.7000  \n",
      "1             Barren:cn_2  88.4308       cn  93.7154   59.2154  59.2154  \n",
      "2             Barren:cn_3  92.3554       cn  95.6777   61.1777  61.1777  \n",
      "3             Barren:cn_4  93.8992       cn  96.4496   61.9496  61.9496  \n",
      "4  Barren:max_net_infil_1   3.7500      mni -99.0000 -999.0000  16.8750  \n"
     ]
    }
   ],
   "source": [
    "# Set Upper and Lower bounds for Curve Numbers:\n",
    "# Arbitrary range of 30 - 99 in total. \n",
    "pars_all['ParUBND'] = -99\n",
    "pars_all['ParLBND'] = -999\n",
    "maxCN = 99.0\n",
    "minCN = 30.0\n",
    "# Upper BND =  (ParVal + (MaxCN - ParVal)/2)\n",
    "pars_all['tmp'] = maxCN - pars_all['ParVal']\n",
    "pars_all['tmp'] = pars_all['tmp'] / 2\n",
    "pars_all['tmp'] = pars_all.ParVal + pars_all.tmp\n",
    "pars_all.loc[pars_all.ParGroup == 'cn', 'ParUBND'] = pars_all['tmp']\n",
    "# Lower BND =  (ParVal - (ParVal - MinCN)/2)\n",
    "pars_all['tmp'] = pars_all['ParVal'] - minCN\n",
    "pars_all['tmp'] = pars_all['tmp'] / 2\n",
    "pars_all['tmp'] = pars_all.ParVal - pars_all.tmp\n",
    "pars_all.loc[pars_all.ParGroup == 'cn', 'ParLBND'] = pars_all['tmp']\n",
    "\n",
    "print (pars_all.head())"
   ]
  },
  {
   "cell_type": "code",
   "execution_count": 61,
   "metadata": {},
   "outputs": [
    {
     "name": "stdout",
     "output_type": "stream",
     "text": [
      "   level_0  index description         variable     ParName  \\\n",
      "0        0     69      Barren             cn_1   bare_a_cn   \n",
      "1        1    196      Barren             cn_2   bare_b_cn   \n",
      "2        2    323      Barren             cn_3   bare_c_cn   \n",
      "3        3    450      Barren             cn_4   bare_d_cn   \n",
      "4        7    958      Barren  max_net_infil_1  bare_a_mni   \n",
      "\n",
      "                Index_Loc   ParVal ParGroup  ParUBND   ParLBND      tmp  \n",
      "0             Barren:cn_1  81.4000       cn  90.2000   55.7000  55.7000  \n",
      "1             Barren:cn_2  88.4308       cn  93.7154   59.2154  59.2154  \n",
      "2             Barren:cn_3  92.3554       cn  95.6777   61.1777  61.1777  \n",
      "3             Barren:cn_4  93.8992       cn  96.4496   61.9496  61.9496  \n",
      "4  Barren:max_net_infil_1   3.7500      mni -99.0000 -999.0000  16.8750  \n"
     ]
    }
   ],
   "source": [
    "# Set upper and lower bounds for ROOTING ZONE DEPTHS\n",
    "# Just use a multiplier, nothing fancy:\n",
    "pars_all.loc[pars_all.ParGroup == 'rz', 'ParUBND'] = pars_all['ParVal'] * 1.5\n",
    "pars_all.loc[pars_all.ParGroup == 'rz', 'ParLBND'] = pars_all['ParVal'] * 0.5\n",
    "\n",
    "print (pars_all.head())"
   ]
  },
  {
   "cell_type": "code",
   "execution_count": 62,
   "metadata": {},
   "outputs": [
    {
     "name": "stdout",
     "output_type": "stream",
     "text": [
      "     level_0  index          description variable       ParName  \\\n",
      "489      447   1975     Deciduous Forest    tew_7  decid_cd_tew   \n",
      "490      448   1976     Evergreen Forest    tew_7   evgr_cd_tew   \n",
      "491      450   1979            Shrubland    tew_7  shrub_cd_tew   \n",
      "492      452   1984       Woody Wetlands    tew_7   wetf_cd_tew   \n",
      "493      453   1985  Herbaceous Wetlands    tew_7  wetem_cd_tew   \n",
      "\n",
      "                     Index_Loc  ParVal ParGroup  ParUBND  ParLBND      tmp  \n",
      "489     Deciduous Forest:tew_7   0.410      tew   0.6150   0.0410  15.2050  \n",
      "490     Evergreen Forest:tew_7   0.410      tew   0.6150   0.0410  15.2050  \n",
      "491            Shrubland:tew_7   0.410      tew   0.6150   0.0410  15.2050  \n",
      "492       Woody Wetlands:tew_7   0.620      tew   0.9300   0.0620  15.3100  \n",
      "493  Herbaceous Wetlands:tew_7   1.063      tew   1.5945   0.1063  15.5315  \n"
     ]
    }
   ],
   "source": [
    "# Set for PLANT HEIGHTS:\n",
    "# Use same thing: simple multipliers\n",
    "pars_all.loc[pars_all.ParGroup == 'height', 'ParUBND'] = pars_all['ParVal'] * 1.5\n",
    "pars_all.loc[pars_all.ParGroup == 'height', 'ParLBND'] = pars_all['ParVal'] * 0.5\n",
    "\n",
    "# Set for Kcb-Mid values:\n",
    "# Use same thing: simple multipliers\n",
    "pars_all.loc[pars_all.ParGroup == 'kcb-mid', 'ParUBND'] = pars_all['ParVal'] * 1.25\n",
    "pars_all.loc[pars_all.ParGroup == 'kcb-mid', 'ParLBND'] = pars_all['ParVal'] * 0.75\n",
    "\n",
    "# Set for REW and TEW settings:\n",
    "pars_all.loc[pars_all.ParGroup == 'rew', 'ParUBND'] = pars_all['ParVal'] * 1.5\n",
    "pars_all.loc[pars_all.ParGroup == 'rew', 'ParLBND'] = pars_all['ParVal'] * 0.1\n",
    "pars_all.loc[pars_all.ParGroup == 'tew', 'ParUBND'] = pars_all['ParVal'] * 1.5\n",
    "pars_all.loc[pars_all.ParGroup == 'tew', 'ParLBND'] = pars_all['ParVal'] * 0.1\n",
    "\n",
    "print (pars_all.tail())"
   ]
  },
  {
   "cell_type": "code",
   "execution_count": null,
   "metadata": {},
   "outputs": [],
   "source": [
    "# Max Net Infiltration: same thing, simple multipliers:\n",
    "pars_all.loc[pars_all.ParGroup == 'mni', 'ParUBND'] = pars_all['ParVal'] * 2\n",
    "pars_all.loc[pars_all.ParGroup == 'mni', 'ParLBND'] = pars_all['ParVal'] * 0.25"
   ]
  },
  {
   "cell_type": "code",
   "execution_count": 64,
   "metadata": {},
   "outputs": [
    {
     "data": {
      "text/html": [
       "<div>\n",
       "<style scoped>\n",
       "    .dataframe tbody tr th:only-of-type {\n",
       "        vertical-align: middle;\n",
       "    }\n",
       "\n",
       "    .dataframe tbody tr th {\n",
       "        vertical-align: top;\n",
       "    }\n",
       "\n",
       "    .dataframe thead th {\n",
       "        text-align: right;\n",
       "    }\n",
       "</style>\n",
       "<table border=\"1\" class=\"dataframe\">\n",
       "  <thead>\n",
       "    <tr style=\"text-align: right;\">\n",
       "      <th></th>\n",
       "      <th>level_0</th>\n",
       "      <th>index</th>\n",
       "      <th>description</th>\n",
       "      <th>variable</th>\n",
       "      <th>ParName</th>\n",
       "      <th>Index_Loc</th>\n",
       "      <th>ParVal</th>\n",
       "      <th>ParGroup</th>\n",
       "      <th>ParUBND</th>\n",
       "      <th>ParLBND</th>\n",
       "      <th>tmp</th>\n",
       "    </tr>\n",
       "  </thead>\n",
       "  <tbody>\n",
       "  </tbody>\n",
       "</table>\n",
       "</div>"
      ],
      "text/plain": [
       "Empty DataFrame\n",
       "Columns: [level_0, index, description, variable, ParName, Index_Loc, ParVal, ParGroup, ParUBND, ParLBND, tmp]\n",
       "Index: []"
      ]
     },
     "execution_count": 64,
     "metadata": {},
     "output_type": "execute_result"
    }
   ],
   "source": [
    "# Find any that haven't been set yet:\n",
    "\n",
    "pars_all.loc[pars_all['ParUBND'] < 0]"
   ]
  },
  {
   "cell_type": "markdown",
   "metadata": {},
   "source": [
    "### Adjustable:"
   ]
  },
  {
   "cell_type": "code",
   "execution_count": 65,
   "metadata": {},
   "outputs": [
    {
     "name": "stdout",
     "output_type": "stream",
     "text": [
      "<class 'pandas.core.frame.DataFrame'>\n",
      "Int64Index: 494 entries, 0 to 493\n",
      "Data columns (total 12 columns):\n",
      " #   Column       Non-Null Count  Dtype  \n",
      "---  ------       --------------  -----  \n",
      " 0   level_0      494 non-null    int64  \n",
      " 1   index        494 non-null    int64  \n",
      " 2   description  494 non-null    object \n",
      " 3   variable     494 non-null    object \n",
      " 4   ParName      494 non-null    object \n",
      " 5   Index_Loc    494 non-null    object \n",
      " 6   ParVal       494 non-null    float64\n",
      " 7   ParGroup     494 non-null    object \n",
      " 8   ParUBND      494 non-null    float64\n",
      " 9   ParLBND      494 non-null    float64\n",
      " 10  tmp          494 non-null    float64\n",
      " 11  Adjust       494 non-null    object \n",
      "dtypes: float64(4), int64(2), object(6)\n",
      "memory usage: 70.2+ KB\n",
      "None\n"
     ]
    }
   ],
   "source": [
    "pars_all['Adjust'] = 'YES'\n",
    "print (pars_all.info())"
   ]
  },
  {
   "cell_type": "markdown",
   "metadata": {},
   "source": [
    "### Clean up for exporting:"
   ]
  },
  {
   "cell_type": "code",
   "execution_count": 66,
   "metadata": {},
   "outputs": [],
   "source": [
    "pars_exp = pars_all[['ParName','ParGroup','ParVal','ParUBND','ParLBND','Adjust']].copy()"
   ]
  },
  {
   "cell_type": "code",
   "execution_count": 67,
   "metadata": {},
   "outputs": [],
   "source": [
    "outdir = r\"E:\\UMID_Data\\0188_offline\\modeldev\\PARS\"\n",
    "pars_exp.to_csv(os.path.join(outdir,'MAP_parlist_MOREPARS.csv'))"
   ]
  },
  {
   "cell_type": "code",
   "execution_count": null,
   "metadata": {},
   "outputs": [],
   "source": []
  }
 ],
 "metadata": {
  "kernelspec": {
   "display_name": "Python 3",
   "language": "python",
   "name": "python3"
  },
  "language_info": {
   "codemirror_mode": {
    "name": "ipython",
    "version": 3
   },
   "file_extension": ".py",
   "mimetype": "text/x-python",
   "name": "python",
   "nbconvert_exporter": "python",
   "pygments_lexer": "ipython3",
   "version": "3.7.7"
  }
 },
 "nbformat": 4,
 "nbformat_minor": 4
}
