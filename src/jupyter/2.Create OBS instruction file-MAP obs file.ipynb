{
 "cells": [
  {
   "cell_type": "markdown",
   "metadata": {},
   "source": [
    "# CREATE .ins File from the Observation Data file after running SWB:"
   ]
  },
  {
   "cell_type": "code",
   "execution_count": 1,
   "metadata": {},
   "outputs": [],
   "source": [
    "# For MAP - NOT using a .csv file as the observation file (using .obs file)\n",
    "\n",
    "# October, 2019\n",
    "# Revised NOV 26/2019\n",
    "# Revised JAN 30 2020\n",
    "# M Nielsen"
   ]
  },
  {
   "cell_type": "code",
   "execution_count": 1,
   "metadata": {},
   "outputs": [],
   "source": [
    "# 1/30/2020 ADDED ALL ET OBSERVATIONS.\n",
    "\n",
    "# Initially Testing with a shortened number of observations\n",
    "# Need to copy .csv file from YETI over to P: to make this work\n",
    "\n",
    "# 7/15/2020 - re-did sorting so the .ins and .obs files are sorted the same.\n",
    "# 8/10/2020 - used this to make an .ins file for the SW observations\n"
   ]
  },
  {
   "cell_type": "markdown",
   "metadata": {},
   "source": [
    "### Run this when observations are changed, for whichever .obs file needs it."
   ]
  },
  {
   "cell_type": "code",
   "execution_count": 2,
   "metadata": {},
   "outputs": [],
   "source": [
    "import os\n",
    "import pandas as pd\n",
    "import numpy as np\n",
    "\n",
    "obspath = 'E:\\\\UMID_Data\\\\0188_offline\\\\modeldev\\\\OBS'\n",
    "#obsfile = 'swbstats_simulated_obs_et_ALL_sorted.obs'   # This one is sorted by ObsName\n",
    "\n",
    "obsfile = 'swbstats_simulated_obs_SW.obs'   # This one is sorted by ObsName\n",
    "\n",
    "# This file is just the SW observations (runoff and baseflow)"
   ]
  },
  {
   "cell_type": "code",
   "execution_count": 3,
   "metadata": {},
   "outputs": [],
   "source": [
    "df = pd.read_csv(os.path.join(obspath, obsfile), sep=' ')"
   ]
  },
  {
   "cell_type": "code",
   "execution_count": 4,
   "metadata": {},
   "outputs": [
    {
     "name": "stdout",
     "output_type": "stream",
     "text": [
      "                ObsName  mean_swb\n",
      "0  bf_10_7030392_apr-03  0.960994\n",
      "1  bf_10_7030392_apr-07  0.311629\n",
      "2  bf_10_7030392_apr-09  0.722126\n",
      "3  bf_10_7030392_apr-11  2.122062\n",
      "4  bf_10_7030392_apr-14  1.133116\n",
      "<class 'pandas.core.frame.DataFrame'>\n",
      "RangeIndex: 9164 entries, 0 to 9163\n",
      "Data columns (total 2 columns):\n",
      " #   Column    Non-Null Count  Dtype  \n",
      "---  ------    --------------  -----  \n",
      " 0   ObsName   9164 non-null   object \n",
      " 1   mean_swb  9164 non-null   float64\n",
      "dtypes: float64(1), object(1)\n",
      "memory usage: 143.3+ KB\n",
      "None\n"
     ]
    }
   ],
   "source": [
    "print (df.head())\n",
    "print (df.info())"
   ]
  },
  {
   "cell_type": "code",
   "execution_count": null,
   "metadata": {},
   "outputs": [],
   "source": []
  },
  {
   "cell_type": "code",
   "execution_count": 5,
   "metadata": {},
   "outputs": [
    {
     "name": "stdout",
     "output_type": "stream",
     "text": [
      "                  ObsName   mean_swb Col1                insName  \\\n",
      "9159  ro_9_7027720_yr2014   6.026544   l1  ~ro_9_7027720_yr2014~   \n",
      "9160  ro_9_7027720_yr2015   6.014087   l1  ~ro_9_7027720_yr2015~   \n",
      "9161  ro_9_7027720_yr2016   4.985321   l1  ~ro_9_7027720_yr2016~   \n",
      "9162  ro_9_7027720_yr2017   7.629477   l1  ~ro_9_7027720_yr2017~   \n",
      "9163  ro_9_7027720_yr2018  12.474147   l1  ~ro_9_7027720_yr2018~   \n",
      "\n",
      "                     insOBS  \n",
      "9159  !ro_9_7027720_yr2014!  \n",
      "9160  !ro_9_7027720_yr2015!  \n",
      "9161  !ro_9_7027720_yr2016!  \n",
      "9162  !ro_9_7027720_yr2017!  \n",
      "9163  !ro_9_7027720_yr2018!  \n"
     ]
    }
   ],
   "source": [
    "#del df['Unnamed: 0']  # --> Use if necessary.\n",
    "df['Col1'] = 'l1'   # First character of the .ins line for each entry\n",
    "df['insName'] = '~' + df['ObsName'] + '~'  # Second part of each .ins line\n",
    "df['insOBS'] = '!' + df['ObsName'] + '!'  # OBS value part of each .ins line\n",
    "print (df.tail())"
   ]
  },
  {
   "cell_type": "code",
   "execution_count": 6,
   "metadata": {},
   "outputs": [
    {
     "name": "stdout",
     "output_type": "stream",
     "text": [
      "<class 'pandas.core.frame.DataFrame'>\n",
      "RangeIndex: 9164 entries, 0 to 9163\n",
      "Data columns (total 5 columns):\n",
      " #   Column    Non-Null Count  Dtype  \n",
      "---  ------    --------------  -----  \n",
      " 0   ObsName   9164 non-null   object \n",
      " 1   mean_swb  9164 non-null   float64\n",
      " 2   Col1      9164 non-null   object \n",
      " 3   insName   9164 non-null   object \n",
      " 4   insOBS    9164 non-null   object \n",
      "dtypes: float64(1), object(4)\n",
      "memory usage: 358.1+ KB\n",
      "None\n"
     ]
    }
   ],
   "source": [
    "print (df.info())"
   ]
  },
  {
   "cell_type": "code",
   "execution_count": 7,
   "metadata": {},
   "outputs": [
    {
     "name": "stdout",
     "output_type": "stream",
     "text": [
      "                ObsName  mean_swb Col1                 insName  \\\n",
      "0  bf_10_7030392_apr-03  0.960994   l1  ~bf_10_7030392_apr-03~   \n",
      "1  bf_10_7030392_apr-07  0.311629   l1  ~bf_10_7030392_apr-07~   \n",
      "2  bf_10_7030392_apr-09  0.722126   l1  ~bf_10_7030392_apr-09~   \n",
      "3  bf_10_7030392_apr-11  2.122062   l1  ~bf_10_7030392_apr-11~   \n",
      "4  bf_10_7030392_apr-14  1.133116   l1  ~bf_10_7030392_apr-14~   \n",
      "\n",
      "                   insOBS  \n",
      "0  !bf_10_7030392_apr-03!  \n",
      "1  !bf_10_7030392_apr-07!  \n",
      "2  !bf_10_7030392_apr-09!  \n",
      "3  !bf_10_7030392_apr-11!  \n",
      "4  !bf_10_7030392_apr-14!  \n"
     ]
    }
   ],
   "source": [
    "print (df.head())"
   ]
  },
  {
   "cell_type": "code",
   "execution_count": 8,
   "metadata": {},
   "outputs": [
    {
     "name": "stdout",
     "output_type": "stream",
     "text": [
      "  Col1                 insName                  insOBS\n",
      "0   l1  ~bf_10_7030392_apr-03~  !bf_10_7030392_apr-03!\n",
      "1   l1  ~bf_10_7030392_apr-07~  !bf_10_7030392_apr-07!\n",
      "2   l1  ~bf_10_7030392_apr-09~  !bf_10_7030392_apr-09!\n",
      "3   l1  ~bf_10_7030392_apr-11~  !bf_10_7030392_apr-11!\n",
      "4   l1  ~bf_10_7030392_apr-14~  !bf_10_7030392_apr-14!\n"
     ]
    }
   ],
   "source": [
    "# Clean and create output:\n",
    "del df['ObsName']\n",
    "#del df['Value']\n",
    "del df['mean_swb']\n",
    "#del df['Year1']\n",
    "#del df['Year0']\n",
    "print (df.head())"
   ]
  },
  {
   "cell_type": "code",
   "execution_count": 12,
   "metadata": {},
   "outputs": [],
   "source": [
    "#outname = 'MAP_simulated_et_obs_ALL_ET_sorted.ins'\n",
    "outname = 'MAP_simulated_obs_SW.ins'\n",
    "\n",
    "outfile = os.path.join(obspath, outname)   # Can replace with /modeldev/PEST/PEST_FILE_UPDATES\n",
    "df.to_csv(outfile, sep=' ', index=False, header=False)"
   ]
  },
  {
   "cell_type": "code",
   "execution_count": 13,
   "metadata": {},
   "outputs": [
    {
     "name": "stdout",
     "output_type": "stream",
     "text": [
      "  Col1                 insName                  insOBS\n",
      "0   l1  ~bf_10_7030392_apr-03~  !bf_10_7030392_apr-03!\n",
      "1   l1  ~bf_10_7030392_apr-07~  !bf_10_7030392_apr-07!\n",
      "2   l1  ~bf_10_7030392_apr-09~  !bf_10_7030392_apr-09!\n",
      "3   l1  ~bf_10_7030392_apr-11~  !bf_10_7030392_apr-11!\n",
      "4   l1  ~bf_10_7030392_apr-14~  !bf_10_7030392_apr-14!\n"
     ]
    }
   ],
   "source": [
    "print (df.head())"
   ]
  },
  {
   "cell_type": "code",
   "execution_count": 14,
   "metadata": {},
   "outputs": [],
   "source": [
    "# INSERT the \"pif ~\" text in the file...\n",
    "\n",
    "def line_prepender(filename, line):\n",
    "    with open(filename, 'r+') as f:\n",
    "        content = f.read()\n",
    "        f.seek(0, 0)\n",
    "        f.write(line.rstrip('\\r\\n') + '\\n' + content)\n",
    "\n",
    "line_prepender(outfile, 'l1')\n",
    "line_prepender(outfile,'pif ~')"
   ]
  },
  {
   "cell_type": "code",
   "execution_count": null,
   "metadata": {},
   "outputs": [],
   "source": []
  },
  {
   "cell_type": "code",
   "execution_count": null,
   "metadata": {},
   "outputs": [],
   "source": []
  }
 ],
 "metadata": {
  "kernelspec": {
   "display_name": "Python 3",
   "language": "python",
   "name": "python3"
  },
  "language_info": {
   "codemirror_mode": {
    "name": "ipython",
    "version": 3
   },
   "file_extension": ".py",
   "mimetype": "text/x-python",
   "name": "python",
   "nbconvert_exporter": "python",
   "pygments_lexer": "ipython3",
   "version": "3.7.7"
  }
 },
 "nbformat": 4,
 "nbformat_minor": 2
}
