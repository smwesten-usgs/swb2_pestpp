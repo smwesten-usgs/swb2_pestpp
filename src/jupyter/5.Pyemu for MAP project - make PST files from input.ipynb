{
 "cells": [
  {
   "cell_type": "markdown",
   "metadata": {},
   "source": [
    "## Work with Pyemu to make .pst object and stuff...."
   ]
  },
  {
   "cell_type": "markdown",
   "metadata": {},
   "source": [
    "### Using MAP SWB observations and parameters"
   ]
  },
  {
   "cell_type": "code",
   "execution_count": 2,
   "metadata": {},
   "outputs": [],
   "source": [
    "# First run-through 11/26/2019\n",
    "# More parameters 1/29/2020\n",
    "# More observations 2/3/2020\n",
    "# Lots of updates July 2020:\n",
    "#   - new lookup table\n",
    "#   - adjustments to observations sorting and numbers\n",
    "\n",
    "# 8/10/2020 Added lots more observations - SW watersheds baseflow and runoff.\n",
    "# 8/20/20 Re-worked to create more generalized process, moved weights to separate notebook\n",
    "\n",
    "# 9/9/2020 Ran with full set of MAP parameters (494 instead of 56)"
   ]
  },
  {
   "cell_type": "code",
   "execution_count": 1,
   "metadata": {},
   "outputs": [
    {
     "data": {
      "text/plain": [
       "'0+unknown'"
      ]
     },
     "execution_count": 1,
     "metadata": {},
     "output_type": "execute_result"
    }
   ],
   "source": [
    "# Reinstalled pyemu 7/15/2020 with pip\n",
    "import pyemu as pyemu\n",
    "import os\n",
    "import pandas as pd\n",
    "pyemu.__version__"
   ]
  },
  {
   "cell_type": "markdown",
   "metadata": {},
   "source": [
    "## Using the \"from_io\" utility"
   ]
  },
  {
   "cell_type": "code",
   "execution_count": 2,
   "metadata": {},
   "outputs": [],
   "source": [
    "# Set up paths:\n",
    "PARDIR = 'E:\\\\UMID_Data\\\\0188_offline\\\\modeldev\\\\PARS'\n",
    "OBSDIR = 'E:\\\\UMID_Data\\\\0188_offline\\\\modeldev\\\\OBS'\n",
    "outdir = 'E:\\\\UMID_Data\\\\0188_offline\\\\modeldev\\\\PEST\\\\PEST_FILE_UPDATES'"
   ]
  },
  {
   "cell_type": "markdown",
   "metadata": {},
   "source": [
    "## IMPORTANT TO UPDATE THESE FILE NAMES:"
   ]
  },
  {
   "cell_type": "code",
   "execution_count": 3,
   "metadata": {},
   "outputs": [],
   "source": [
    "# Set current versions of lookup tables:\n",
    "#landuse_version = 'YETI_Landuse_lookup_table_V4'\n",
    "#irrigation_version = 'YETI_Irrigation_lookup_table_V2'\n",
    "landuse_version = 'YETI_LU_lookup_table_MOREPARS'\n",
    "irrigation_version = 'YETI_IRR_lookup_table_MOREPARS'\n",
    "\n",
    "lufile = landuse_version + '.xlsx'\n",
    "irrfile = irrigation_version + '.xlsx'"
   ]
  },
  {
   "cell_type": "markdown",
   "metadata": {},
   "source": [
    "### Run notebook #1 again if parameters/values have changed"
   ]
  },
  {
   "cell_type": "code",
   "execution_count": 4,
   "metadata": {},
   "outputs": [],
   "source": [
    "# Lookup tables saved from jupyter notebook 1.Export lookup tables and tpl files from excel.ipynb:\n",
    "\n",
    "# LAND USE infiles\n",
    "infile = os.path.join(outdir, (landuse_version + '.txt')) \n",
    "tplfile = os.path.join(outdir,(landuse_version + '.tpl'))\n",
    "\n",
    "# Irrigation ET in-file NEW_Irrigation_lookup_table_PestTest.txt:\n",
    "infile2 = os.path.join(outdir,(irrigation_version + '.txt'))\n",
    "tplfile2 = os.path.join(outdir,(irrigation_version + '.tpl'))\n",
    "\n",
    "# Observations - TWO types now:\n",
    "# in the P:\\0188\\modeldev\\OBS directory:\n",
    "# \"ins_file\" = MAP_simulated_et_obs.ins\n",
    "insfile1 = os.path.join(OBSDIR,'MAP_simulated_et_obs_ALL_ET_sorted.ins')\n",
    "insfile2 = os.path.join(OBSDIR,'MAP_simulated_obs_SW.ins')\n",
    "\n",
    "# \"out_file\" = swbstats_simulated_obs_et.obs\n",
    "obsfile1 = os.path.join(OBSDIR,'swbstats_simulated_obs_et_ALL_sorted.obs')\n",
    "obsfile2 = os.path.join(OBSDIR,'swbstats_simulated_obs_SW.obs')\n",
    "\n",
    "# OTHER data:\n",
    "# obsdir --> \\ALLOBS.INFO.for.pyemu.csv  --> OBSVAL, OBSNME, WEIGHT, has lots of\n",
    "# entries that are \"zero\" values and will be skipped\n",
    "\n",
    "# pardir -->\\MAP_parlist.csv --> PARNME, PARVAL1, PARGPNME, PARLBND, PARUBND"
   ]
  },
  {
   "cell_type": "code",
   "execution_count": 5,
   "metadata": {},
   "outputs": [],
   "source": [
    "#mypst = pyemu.pst.pst_utils.pst_from_io_files(\n",
    "#    tpl_files=[tplfile], in_files=[infile], ins_files=[insfile], out_files=[obsfile])\n",
    "mypst = pyemu.helpers.pst_from_io_files(\n",
    "    tpl_files=[tplfile,tplfile2], in_files=[infile,infile2], ins_files=[insfile1,insfile2], out_files=[obsfile1,obsfile2])"
   ]
  },
  {
   "cell_type": "code",
   "execution_count": 6,
   "metadata": {
    "scrolled": true
   },
   "outputs": [
    {
     "name": "stdout",
     "output_type": "stream",
     "text": [
      "                                obsnme    obsval  weight  obgnme\n",
      "aetc13-301_2013_04  aetc13-301_2013_04  3.531105     1.0  obgnme\n",
      "aetc13-301_2013_05  aetc13-301_2013_05  4.857858     1.0  obgnme\n",
      "aetc13-301_2013_06  aetc13-301_2013_06  5.542544     1.0  obgnme\n",
      "aetc13-301_2013_07  aetc13-301_2013_07  5.516839     1.0  obgnme\n",
      "aetc13-301_2013_08  aetc13-301_2013_08  5.081783     1.0  obgnme\n",
      "<class 'pandas.core.frame.DataFrame'>\n",
      "Index: 14006 entries, aetc13-301_2013_04 to ro_9_7027720_yr2018\n",
      "Data columns (total 4 columns):\n",
      " #   Column  Non-Null Count  Dtype  \n",
      "---  ------  --------------  -----  \n",
      " 0   obsnme  14006 non-null  object \n",
      " 1   obsval  14006 non-null  float64\n",
      " 2   weight  14006 non-null  float64\n",
      " 3   obgnme  14006 non-null  object \n",
      "dtypes: float64(2), object(2)\n",
      "memory usage: 1.2+ MB\n",
      "None\n"
     ]
    }
   ],
   "source": [
    "print (mypst.observation_data.head())\n",
    "print (mypst.observation_data.info())"
   ]
  },
  {
   "cell_type": "code",
   "execution_count": 7,
   "metadata": {},
   "outputs": [
    {
     "name": "stdout",
     "output_type": "stream",
     "text": [
      "                    parnme partrans parchglim  parval1       parlbnd  \\\n",
      "wetf_d_tew      wetf_d_tew      log    factor      1.0  1.100000e-10   \n",
      "wetf_height    wetf_height      log    factor      1.0  1.100000e-10   \n",
      "wetf_kcb-mid  wetf_kcb-mid      log    factor      1.0  1.100000e-10   \n",
      "wht_kcb-mid    wht_kcb-mid      log    factor      1.0  1.100000e-10   \n",
      "wtem_kcb-mid  wtem_kcb-mid      log    factor      1.0  1.100000e-10   \n",
      "\n",
      "                   parubnd  pargp  scale  offset  dercom  \n",
      "wetf_d_tew    1.100000e+10  pargp    1.0     0.0       1  \n",
      "wetf_height   1.100000e+10  pargp    1.0     0.0       1  \n",
      "wetf_kcb-mid  1.100000e+10  pargp    1.0     0.0       1  \n",
      "wht_kcb-mid   1.100000e+10  pargp    1.0     0.0       1  \n",
      "wtem_kcb-mid  1.100000e+10  pargp    1.0     0.0       1  \n",
      "<class 'pandas.core.frame.DataFrame'>\n",
      "Index: 494 entries, bare_a_cn to wtem_kcb-mid\n",
      "Data columns (total 10 columns):\n",
      " #   Column     Non-Null Count  Dtype  \n",
      "---  ------     --------------  -----  \n",
      " 0   parnme     494 non-null    object \n",
      " 1   partrans   494 non-null    object \n",
      " 2   parchglim  494 non-null    object \n",
      " 3   parval1    494 non-null    float64\n",
      " 4   parlbnd    494 non-null    float64\n",
      " 5   parubnd    494 non-null    float64\n",
      " 6   pargp      494 non-null    object \n",
      " 7   scale      494 non-null    float64\n",
      " 8   offset     494 non-null    float64\n",
      " 9   dercom     494 non-null    int32  \n",
      "dtypes: float64(5), int32(1), object(4)\n",
      "memory usage: 40.5+ KB\n",
      "None\n"
     ]
    }
   ],
   "source": [
    "print (mypst.parameter_data.tail())\n",
    "print (mypst.parameter_data.info())\n",
    "# For some reason this is not the same number of pars as in the par info notebook."
   ]
  },
  {
   "cell_type": "markdown",
   "metadata": {},
   "source": [
    "### Add my own OBS and PAR data to the PST object:\n",
    "### Adding in SW obs info\n",
    "**Will need another section for bounds on the Irrigation multipliers...**"
   ]
  },
  {
   "cell_type": "code",
   "execution_count": 8,
   "metadata": {},
   "outputs": [
    {
     "name": "stdout",
     "output_type": "stream",
     "text": [
      "<class 'pandas.core.frame.DataFrame'>\n",
      "RangeIndex: 31738 entries, 0 to 31737\n",
      "Data columns (total 5 columns):\n",
      " #   Column     Non-Null Count  Dtype  \n",
      "---  ------     --------------  -----  \n",
      " 0   ObsName    31738 non-null  object \n",
      " 1   Value      31666 non-null  float64\n",
      " 2   OBS_group  31738 non-null  object \n",
      " 3   variance   31738 non-null  float64\n",
      " 4   WEIGHT     31738 non-null  float64\n",
      "dtypes: float64(3), object(2)\n",
      "memory usage: 1.2+ MB\n",
      "None\n",
      "                   ObsName     Value   OBS_group  variance    WEIGHT\n",
      "31728  ro_9_7027720_sep-10  0.022857  RO_monthly  0.000024  2.343327\n",
      "31729  ro_9_7027720_sep-11  0.198571  RO_monthly  0.000214  2.343327\n",
      "31730  ro_9_7027720_sep-12  0.331429  RO_monthly  0.001048  2.343327\n",
      "31731  ro_9_7027720_sep-13  0.241429  RO_monthly  0.000414  2.343327\n",
      "31732  ro_9_7027720_sep-14  0.562857  RO_monthly  0.001490  2.343327\n",
      "31733  ro_9_7027720_sep-15  0.064286  RO_monthly  0.000062  2.343327\n",
      "31734  ro_9_7027720_sep-16  0.031429  RO_monthly  0.000081  2.343327\n",
      "31735  ro_9_7027720_sep-17  1.312857  RO_monthly  0.127924  2.343327\n",
      "31736  ro_9_7027720_sep-18  1.635714  RO_monthly  0.046495  2.343327\n",
      "31737  ro_9_7027720_sep-19  0.024286  RO_monthly  0.000029  2.343327\n"
     ]
    }
   ],
   "source": [
    "# Get my own OBS data....\n",
    "# Uses output from notebook 4.Set and Update OBS weights\n",
    "\n",
    "allobs = pd.read_csv(os.path.join(OBSDIR,'ALLOBS.INFO.for.pyemu.csv'))\n",
    "\n",
    "del allobs['Unnamed: 0']\n",
    "print (allobs.info())\n",
    "print (allobs.tail(10))"
   ]
  },
  {
   "cell_type": "code",
   "execution_count": 9,
   "metadata": {},
   "outputs": [
    {
     "name": "stdout",
     "output_type": "stream",
     "text": [
      "<class 'pandas.core.frame.DataFrame'>\n",
      "Int64Index: 14006 entries, 0 to 14005\n",
      "Data columns (total 9 columns):\n",
      " #   Column     Non-Null Count  Dtype  \n",
      "---  ------     --------------  -----  \n",
      " 0   obsnme     14006 non-null  object \n",
      " 1   obsval     14006 non-null  float64\n",
      " 2   weight     14006 non-null  float64\n",
      " 3   obgnme     14006 non-null  object \n",
      " 4   ObsName    13075 non-null  object \n",
      " 5   Value      13075 non-null  float64\n",
      " 6   OBS_group  13075 non-null  object \n",
      " 7   variance   13075 non-null  float64\n",
      " 8   WEIGHT     13075 non-null  float64\n",
      "dtypes: float64(5), object(4)\n",
      "memory usage: 1.1+ MB\n",
      "None\n"
     ]
    }
   ],
   "source": [
    "# Join my OBS data with the .pst obs data:\n",
    "# This makes sure everything is sorted correctly...\n",
    "# fewer values than the .csv file because a lot that were generated are zeros\n",
    "newpd = pd.merge(mypst.observation_data, allobs, how='left', left_on='obsnme', right_on='ObsName')\n",
    "print (newpd.info())\n",
    "# The unmatched values are SW vals where there wasn't any ACTUAL gage data.\n",
    "# Need to ZERO weight these, since there's nothing to compare them to"
   ]
  },
  {
   "cell_type": "code",
   "execution_count": 10,
   "metadata": {},
   "outputs": [],
   "source": [
    "## Unweight non-matched values:\n",
    "newpd.loc[newpd.ObsName.isnull(), 'WEIGHT'] = 0\n",
    "newpd.loc[newpd.ObsName.isnull(), 'OBS_group'] = 'NO_SW_Data'\n",
    "newpd.loc[newpd.ObsName.isnull(), 'Value'] = -999\n",
    "\n",
    "#newpd.loc[newpd.ObsName.isnull()].to_csv('MISSING_SW_OBS.csv')"
   ]
  },
  {
   "cell_type": "code",
   "execution_count": 11,
   "metadata": {},
   "outputs": [
    {
     "name": "stdout",
     "output_type": "stream",
     "text": [
      "                                obsnme  obsval    weight    obgnme\n",
      "aetc13-301_2013_04  aetc13-301_2013_04    4.02  4.285403  aet-corn\n",
      "aetc13-301_2013_05  aetc13-301_2013_05    4.55  3.377105  aet-corn\n",
      "aetc13-301_2013_06  aetc13-301_2013_06    4.99  3.143509  aet-corn\n",
      "aetc13-301_2013_07  aetc13-301_2013_07    6.04  6.887002  aet-corn\n",
      "aetc13-301_2013_08  aetc13-301_2013_08    5.82  3.371081  aet-corn\n",
      "aetc13-301_2013_09  aetc13-301_2013_09    1.99  6.801503  aet-corn\n",
      "aetc13-302_2013_04  aetc13-302_2013_04    3.58  4.285403  aet-corn\n",
      "aetc13-302_2013_05  aetc13-302_2013_05    4.22  3.377105  aet-corn\n",
      "aetc13-302_2013_06  aetc13-302_2013_06    5.87  3.143509  aet-corn\n",
      "aetc13-302_2013_07  aetc13-302_2013_07    6.13  6.887002  aet-corn\n"
     ]
    }
   ],
   "source": [
    "# with the sort correct, this works:\n",
    "mypst.observation_data['obsval'] = newpd.loc[:,'Value'].values\n",
    "mypst.observation_data['weight'] = newpd.loc[:,'WEIGHT'].values\n",
    "mypst.observation_data['obgnme'] = newpd.loc[:,'OBS_group'].values   # Can assign other groups to test as needed....\n",
    "\n",
    "print (mypst.observation_data.head(10))"
   ]
  },
  {
   "cell_type": "code",
   "execution_count": null,
   "metadata": {},
   "outputs": [],
   "source": []
  },
  {
   "cell_type": "markdown",
   "metadata": {},
   "source": [
    "### PARAMETERS.... from LU and IRR tables"
   ]
  },
  {
   "cell_type": "code",
   "execution_count": 12,
   "metadata": {},
   "outputs": [
    {
     "name": "stdout",
     "output_type": "stream",
     "text": [
      "<class 'pandas.core.frame.DataFrame'>\n",
      "Int64Index: 494 entries, 0 to 493\n",
      "Data columns (total 7 columns):\n",
      " #   Column      Non-Null Count  Dtype  \n",
      "---  ------      --------------  -----  \n",
      " 0   Unnamed: 0  494 non-null    int64  \n",
      " 1   ParName     494 non-null    object \n",
      " 2   ParGroup    494 non-null    object \n",
      " 3   ParVal      494 non-null    float64\n",
      " 4   ParUBND     494 non-null    float64\n",
      " 5   ParLBND     494 non-null    float64\n",
      " 6   Adjust      494 non-null    object \n",
      "dtypes: float64(3), int64(1), object(3)\n",
      "memory usage: 30.9+ KB\n",
      "None\n",
      "   Unnamed: 0     ParName ParGroup   ParVal  ParUBND  ParLBND Adjust\n",
      "0           0   bare_a_cn       cn  81.4000  90.2000  55.7000    YES\n",
      "1           1   bare_b_cn       cn  88.4308  93.7154  59.2154    YES\n",
      "2           2   bare_c_cn       cn  92.3554  95.6777  61.1777    YES\n",
      "3           3   bare_d_cn       cn  93.8992  96.4496  61.9496    YES\n",
      "4           4  bare_a_mni      mni   3.7500   7.5000   0.9375    YES\n"
     ]
    }
   ],
   "source": [
    "# Get my own lookup table PAR data....\n",
    "# Made this new 8/10/2020\n",
    "\n",
    "pardata1 = pd.read_csv(os.path.join(PARDIR,'MAP_parlist_MOREPARS.csv')).drop_duplicates(['ParName','ParGroup'])\n",
    "# Recast to lower case:\n",
    "pardata1['ParName'] = pardata1['ParName'].str.lower()\n",
    "print (pardata1.info())\n",
    "print (pardata1.head())"
   ]
  },
  {
   "cell_type": "code",
   "execution_count": 13,
   "metadata": {
    "scrolled": true
   },
   "outputs": [
    {
     "name": "stdout",
     "output_type": "stream",
     "text": [
      "<class 'pandas.core.frame.DataFrame'>\n",
      "Index: 494 entries, bare_a_cn to wtem_kcb-mid\n",
      "Data columns (total 10 columns):\n",
      " #   Column     Non-Null Count  Dtype  \n",
      "---  ------     --------------  -----  \n",
      " 0   parnme     494 non-null    object \n",
      " 1   partrans   494 non-null    object \n",
      " 2   parchglim  494 non-null    object \n",
      " 3   parval1    494 non-null    float64\n",
      " 4   parlbnd    494 non-null    float64\n",
      " 5   parubnd    494 non-null    float64\n",
      " 6   pargp      494 non-null    object \n",
      " 7   scale      494 non-null    float64\n",
      " 8   offset     494 non-null    float64\n",
      " 9   dercom     494 non-null    int32  \n",
      "dtypes: float64(5), int32(1), object(4)\n",
      "memory usage: 40.5+ KB\n",
      "None\n"
     ]
    }
   ],
   "source": [
    "print (mypst.parameter_data.info())"
   ]
  },
  {
   "cell_type": "code",
   "execution_count": 14,
   "metadata": {},
   "outputs": [
    {
     "name": "stdout",
     "output_type": "stream",
     "text": [
      "Empty DataFrame\n",
      "Columns: [parnme, partrans, parchglim, parval1, parlbnd, parubnd, pargp, scale, offset, dercom, Unnamed: 0, ParName, ParGroup, ParVal, ParUBND, ParLBND, Adjust]\n",
      "Index: []\n"
     ]
    }
   ],
   "source": [
    "# Join these together:\n",
    "pardf = pd.merge(mypst.parameter_data, pardata1, how='left', left_on='parnme', right_on='ParName')\n",
    "#print (pardf.info())\n",
    "\n",
    "# Checking for mis-matched values between the merged datasets:\n",
    "# THIS ALSO LISTS THE NEW PARAMETERS FROM THE IRRIGATION MULTIPLIERS....\n",
    "\n",
    "print (pardf.loc[pardf.parnme.isnull()])\n",
    "# Assign values below...."
   ]
  },
  {
   "cell_type": "code",
   "execution_count": 15,
   "metadata": {},
   "outputs": [
    {
     "name": "stdout",
     "output_type": "stream",
     "text": [
      "                parnme partrans parchglim    parval1    parlbnd    parubnd  \\\n",
      "bare_a_cn    bare_a_cn      log    factor  81.400000  55.700000  90.200000   \n",
      "bare_a_mni  bare_a_mni      log    factor   3.750000   0.937500   7.500000   \n",
      "bare_a_rew  bare_a_rew      log    factor   0.196000   0.019600   0.294000   \n",
      "bare_a_rz    bare_a_rz      log    factor   2.440315   1.220158   3.660473   \n",
      "bare_a_tew  bare_a_tew      log    factor   0.354000   0.035400   0.531000   \n",
      "\n",
      "           pargp  scale  offset  dercom  \n",
      "bare_a_cn     cn    1.0     0.0       1  \n",
      "bare_a_mni   mni    1.0     0.0       1  \n",
      "bare_a_rew   rew    1.0     0.0       1  \n",
      "bare_a_rz     rz    1.0     0.0       1  \n",
      "bare_a_tew   tew    1.0     0.0       1  \n"
     ]
    }
   ],
   "source": [
    "# JOIN the PARDATA into the pst object:\n",
    "# Join to pardf....\n",
    "\n",
    "# with the sort correct, this works:\n",
    "mypst.parameter_data['parval1'] = pardf.loc[:,'ParVal'].values\n",
    "mypst.parameter_data['parlbnd'] = pardf.loc[:,'ParLBND'].values\n",
    "mypst.parameter_data['parubnd'] = pardf.loc[:,'ParUBND'].values\n",
    "mypst.parameter_data['pargp'] = pardf.loc[:,'ParGroup'].values   \n",
    "\n",
    "\n",
    "print(mypst.parameter_data.head())"
   ]
  },
  {
   "cell_type": "code",
   "execution_count": 16,
   "metadata": {},
   "outputs": [
    {
     "name": "stdout",
     "output_type": "stream",
     "text": [
      "Empty DataFrame\n",
      "Columns: [parnme, partrans, parchglim, parval1, parlbnd, parubnd, pargp, scale, offset, dercom]\n",
      "Index: []\n"
     ]
    }
   ],
   "source": [
    "print (mypst.parameter_data.loc[mypst.parameter_data.parval1.isnull()])\n",
    "# Fix these later if there are any..."
   ]
  },
  {
   "cell_type": "code",
   "execution_count": null,
   "metadata": {},
   "outputs": [],
   "source": []
  },
  {
   "cell_type": "markdown",
   "metadata": {},
   "source": [
    "## Setting parameter transformation info (setting non-adjustable parameters, etc.)\n"
   ]
  },
  {
   "cell_type": "code",
   "execution_count": 17,
   "metadata": {},
   "outputs": [],
   "source": [
    "# mess with pardf first, then copy into mypst.parameter_data\n",
    "# Have everything that can vary be LOG transformed (this is what is recommended)\n",
    "pardf['PARTRANS'] = 'x'\n",
    "pardf.loc[pardf.Adjust == 'n', 'PARTRANS'] = 'fixed'\n",
    "pardf.loc[pardf.Adjust == 'YES', 'PARTRANS'] = 'log'"
   ]
  },
  {
   "cell_type": "code",
   "execution_count": 18,
   "metadata": {
    "scrolled": true
   },
   "outputs": [
    {
     "name": "stdout",
     "output_type": "stream",
     "text": [
      "<class 'pandas.core.frame.DataFrame'>\n",
      "Int64Index: 494 entries, 0 to 493\n",
      "Data columns (total 18 columns):\n",
      " #   Column      Non-Null Count  Dtype  \n",
      "---  ------      --------------  -----  \n",
      " 0   parnme      494 non-null    object \n",
      " 1   partrans    494 non-null    object \n",
      " 2   parchglim   494 non-null    object \n",
      " 3   parval1     494 non-null    float64\n",
      " 4   parlbnd     494 non-null    float64\n",
      " 5   parubnd     494 non-null    float64\n",
      " 6   pargp       494 non-null    object \n",
      " 7   scale       494 non-null    float64\n",
      " 8   offset      494 non-null    float64\n",
      " 9   dercom      494 non-null    int32  \n",
      " 10  Unnamed: 0  494 non-null    int64  \n",
      " 11  ParName     494 non-null    object \n",
      " 12  ParGroup    494 non-null    object \n",
      " 13  ParVal      494 non-null    float64\n",
      " 14  ParUBND     494 non-null    float64\n",
      " 15  ParLBND     494 non-null    float64\n",
      " 16  Adjust      494 non-null    object \n",
      " 17  PARTRANS    494 non-null    object \n",
      "dtypes: float64(8), int32(1), int64(1), object(8)\n",
      "memory usage: 71.4+ KB\n",
      "None\n"
     ]
    }
   ],
   "source": [
    "mypst.parameter_data['partrans'] = pardf.loc[:,'PARTRANS'].values\n",
    "# How many are adjustable?\n",
    "print (pardf.loc[pardf['Adjust']=='YES'].info())"
   ]
  },
  {
   "cell_type": "markdown",
   "metadata": {},
   "source": [
    "Temporary testing of changing parameter values...."
   ]
  },
  {
   "cell_type": "code",
   "execution_count": 19,
   "metadata": {},
   "outputs": [
    {
     "data": {
      "text/plain": [
       "array(['cn', 'mni', 'rew', 'rz', 'tew', 'kcb-mid', 'height'], dtype=object)"
      ]
     },
     "execution_count": 19,
     "metadata": {},
     "output_type": "execute_result"
    }
   ],
   "source": [
    "mypst.parameter_data.pargp.unique()"
   ]
  },
  {
   "cell_type": "code",
   "execution_count": null,
   "metadata": {},
   "outputs": [],
   "source": []
  },
  {
   "cell_type": "code",
   "execution_count": null,
   "metadata": {},
   "outputs": [],
   "source": []
  },
  {
   "cell_type": "markdown",
   "metadata": {},
   "source": [
    "### Some cleanup after running PESTCHEK:"
   ]
  },
  {
   "cell_type": "code",
   "execution_count": null,
   "metadata": {},
   "outputs": [],
   "source": []
  },
  {
   "cell_type": "markdown",
   "metadata": {},
   "source": [
    "### More cleanup after pestchek.exe"
   ]
  },
  {
   "cell_type": "code",
   "execution_count": null,
   "metadata": {},
   "outputs": [],
   "source": []
  },
  {
   "cell_type": "markdown",
   "metadata": {},
   "source": [
    "### Checking for pars set at or beyond bounds, fix if needed:"
   ]
  },
  {
   "cell_type": "code",
   "execution_count": null,
   "metadata": {},
   "outputs": [],
   "source": []
  },
  {
   "cell_type": "code",
   "execution_count": 20,
   "metadata": {
    "scrolled": true
   },
   "outputs": [
    {
     "data": {
      "text/html": [
       "<div>\n",
       "<style scoped>\n",
       "    .dataframe tbody tr th:only-of-type {\n",
       "        vertical-align: middle;\n",
       "    }\n",
       "\n",
       "    .dataframe tbody tr th {\n",
       "        vertical-align: top;\n",
       "    }\n",
       "\n",
       "    .dataframe thead th {\n",
       "        text-align: right;\n",
       "    }\n",
       "</style>\n",
       "<table border=\"1\" class=\"dataframe\">\n",
       "  <thead>\n",
       "    <tr style=\"text-align: right;\">\n",
       "      <th></th>\n",
       "      <th>parnme</th>\n",
       "      <th>partrans</th>\n",
       "      <th>parchglim</th>\n",
       "      <th>parval1</th>\n",
       "      <th>parlbnd</th>\n",
       "      <th>parubnd</th>\n",
       "      <th>pargp</th>\n",
       "      <th>scale</th>\n",
       "      <th>offset</th>\n",
       "      <th>dercom</th>\n",
       "    </tr>\n",
       "  </thead>\n",
       "  <tbody>\n",
       "  </tbody>\n",
       "</table>\n",
       "</div>"
      ],
      "text/plain": [
       "Empty DataFrame\n",
       "Columns: [parnme, partrans, parchglim, parval1, parlbnd, parubnd, pargp, scale, offset, dercom]\n",
       "Index: []"
      ]
     },
     "execution_count": 20,
     "metadata": {},
     "output_type": "execute_result"
    }
   ],
   "source": [
    "## CHECK FOR PARAMETERS ABOVE UPPER BOUND....  If not zero, need to fix.\n",
    "\n",
    "mypst.parameter_data.loc[((mypst.parameter_data.parval1 > mypst.parameter_data.parubnd))] "
   ]
  },
  {
   "cell_type": "code",
   "execution_count": 21,
   "metadata": {},
   "outputs": [
    {
     "data": {
      "text/html": [
       "<div>\n",
       "<style scoped>\n",
       "    .dataframe tbody tr th:only-of-type {\n",
       "        vertical-align: middle;\n",
       "    }\n",
       "\n",
       "    .dataframe tbody tr th {\n",
       "        vertical-align: top;\n",
       "    }\n",
       "\n",
       "    .dataframe thead th {\n",
       "        text-align: right;\n",
       "    }\n",
       "</style>\n",
       "<table border=\"1\" class=\"dataframe\">\n",
       "  <thead>\n",
       "    <tr style=\"text-align: right;\">\n",
       "      <th></th>\n",
       "      <th>parnme</th>\n",
       "      <th>partrans</th>\n",
       "      <th>parchglim</th>\n",
       "      <th>parval1</th>\n",
       "      <th>parlbnd</th>\n",
       "      <th>parubnd</th>\n",
       "      <th>pargp</th>\n",
       "      <th>scale</th>\n",
       "      <th>offset</th>\n",
       "      <th>dercom</th>\n",
       "    </tr>\n",
       "  </thead>\n",
       "  <tbody>\n",
       "  </tbody>\n",
       "</table>\n",
       "</div>"
      ],
      "text/plain": [
       "Empty DataFrame\n",
       "Columns: [parnme, partrans, parchglim, parval1, parlbnd, parubnd, pargp, scale, offset, dercom]\n",
       "Index: []"
      ]
     },
     "execution_count": 21,
     "metadata": {},
     "output_type": "execute_result"
    }
   ],
   "source": [
    "## CHECK FOR PARAMETERS **AT** UPPER BOUND.... (and adjustable)\n",
    "mypst.parameter_data.loc[((mypst.parameter_data.parval1 == mypst.parameter_data.parubnd) & (mypst.parameter_data.partrans == 'log'))] "
   ]
  },
  {
   "cell_type": "code",
   "execution_count": 22,
   "metadata": {},
   "outputs": [
    {
     "data": {
      "text/html": [
       "<div>\n",
       "<style scoped>\n",
       "    .dataframe tbody tr th:only-of-type {\n",
       "        vertical-align: middle;\n",
       "    }\n",
       "\n",
       "    .dataframe tbody tr th {\n",
       "        vertical-align: top;\n",
       "    }\n",
       "\n",
       "    .dataframe thead th {\n",
       "        text-align: right;\n",
       "    }\n",
       "</style>\n",
       "<table border=\"1\" class=\"dataframe\">\n",
       "  <thead>\n",
       "    <tr style=\"text-align: right;\">\n",
       "      <th></th>\n",
       "      <th>parnme</th>\n",
       "      <th>partrans</th>\n",
       "      <th>parchglim</th>\n",
       "      <th>parval1</th>\n",
       "      <th>parlbnd</th>\n",
       "      <th>parubnd</th>\n",
       "      <th>pargp</th>\n",
       "      <th>scale</th>\n",
       "      <th>offset</th>\n",
       "      <th>dercom</th>\n",
       "    </tr>\n",
       "  </thead>\n",
       "  <tbody>\n",
       "  </tbody>\n",
       "</table>\n",
       "</div>"
      ],
      "text/plain": [
       "Empty DataFrame\n",
       "Columns: [parnme, partrans, parchglim, parval1, parlbnd, parubnd, pargp, scale, offset, dercom]\n",
       "Index: []"
      ]
     },
     "execution_count": 22,
     "metadata": {},
     "output_type": "execute_result"
    }
   ],
   "source": [
    "## CHECK for parameters equal to their lower bounds and adjustable...\n",
    "# This will cause problems for the regularization.\n",
    "# If not zero, need to fix:\n",
    "\n",
    "mypst.parameter_data.loc[((mypst.parameter_data.parval1 == mypst.parameter_data.parlbnd) & (mypst.parameter_data.partrans == 'log'))] \n"
   ]
  },
  {
   "cell_type": "code",
   "execution_count": 23,
   "metadata": {
    "scrolled": true
   },
   "outputs": [
    {
     "data": {
      "text/plain": [
       "parnme       False\n",
       "partrans     False\n",
       "parchglim    False\n",
       "parval1      False\n",
       "parlbnd      False\n",
       "parubnd      False\n",
       "pargp        False\n",
       "scale        False\n",
       "offset       False\n",
       "dercom       False\n",
       "dtype: bool"
      ]
     },
     "execution_count": 23,
     "metadata": {},
     "output_type": "execute_result"
    }
   ],
   "source": [
    "# Need to check for nans in dataframe.... If there are any, need to fix:\n",
    "mypst.parameter_data.isnull().any()"
   ]
  },
  {
   "cell_type": "code",
   "execution_count": 24,
   "metadata": {},
   "outputs": [
    {
     "data": {
      "text/html": [
       "<div>\n",
       "<style scoped>\n",
       "    .dataframe tbody tr th:only-of-type {\n",
       "        vertical-align: middle;\n",
       "    }\n",
       "\n",
       "    .dataframe tbody tr th {\n",
       "        vertical-align: top;\n",
       "    }\n",
       "\n",
       "    .dataframe thead th {\n",
       "        text-align: right;\n",
       "    }\n",
       "</style>\n",
       "<table border=\"1\" class=\"dataframe\">\n",
       "  <thead>\n",
       "    <tr style=\"text-align: right;\">\n",
       "      <th></th>\n",
       "      <th>parnme</th>\n",
       "      <th>partrans</th>\n",
       "      <th>parchglim</th>\n",
       "      <th>parval1</th>\n",
       "      <th>parlbnd</th>\n",
       "      <th>parubnd</th>\n",
       "      <th>pargp</th>\n",
       "      <th>scale</th>\n",
       "      <th>offset</th>\n",
       "      <th>dercom</th>\n",
       "    </tr>\n",
       "  </thead>\n",
       "  <tbody>\n",
       "  </tbody>\n",
       "</table>\n",
       "</div>"
      ],
      "text/plain": [
       "Empty DataFrame\n",
       "Columns: [parnme, partrans, parchglim, parval1, parlbnd, parubnd, pargp, scale, offset, dercom]\n",
       "Index: []"
      ]
     },
     "execution_count": 24,
     "metadata": {},
     "output_type": "execute_result"
    }
   ],
   "source": [
    "mypst.parameter_data.loc[mypst.parameter_data.parval1.isnull()] "
   ]
  },
  {
   "cell_type": "markdown",
   "metadata": {},
   "source": [
    "## Copy FINAL versions of par files to PEST directory:"
   ]
  },
  {
   "cell_type": "code",
   "execution_count": 25,
   "metadata": {},
   "outputs": [],
   "source": [
    "# These will be copied over to YETI for running\n",
    "# E:\\UMID_Data\\0188_offline\\modeldev\\PEST\\PEST_FILE_UPDATES\n",
    "import shutil"
   ]
  },
  {
   "cell_type": "code",
   "execution_count": 26,
   "metadata": {},
   "outputs": [
    {
     "name": "stdout",
     "output_type": "stream",
     "text": [
      "['MAP_simulated_et_obs.ins', 'MAP_simulated_et_obs_ALL_ET.ins', 'MAP_simulated_et_obs_ALL_ET_sorted.ins', 'MAP_simulated_obs_SW.ins']\n"
     ]
    }
   ],
   "source": [
    "insfiles = [f for f in os.listdir(OBSDIR) if f.endswith('.ins')]\n",
    "print (insfiles)\n",
    "for f in insfiles:\n",
    "    shutil.copy(os.path.join(OBSDIR, f), outdir)"
   ]
  },
  {
   "cell_type": "markdown",
   "metadata": {},
   "source": [
    "## Final setting of commands and files, NOPTMAX:"
   ]
  },
  {
   "cell_type": "code",
   "execution_count": 27,
   "metadata": {},
   "outputs": [
    {
     "data": {
      "text/plain": [
       "name\n",
       "rstfle                        restart\n",
       "pestmode                   estimation\n",
       "npar                                0\n",
       "nobs                                0\n",
       "npargp                              0\n",
       "nprior                              0\n",
       "nobsgp                              0\n",
       "maxcompdim                          0\n",
       "ntplfle                             0\n",
       "ninsfle                             0\n",
       "precis                         single\n",
       "dpoint                          point\n",
       "numcom                              1\n",
       "jacfile                             0\n",
       "messfile                            0\n",
       "obsreref                   noobsreref\n",
       "rlambda1                 2.000000E+01\n",
       "rlamfac                 -3.000000E+00\n",
       "phiratsuf                3.000000E-01\n",
       "phiredlam                1.000000E-02\n",
       "numlam                             -7\n",
       "jacupdate                         999\n",
       "lamforgive                 lamforgive\n",
       "derforgive               noderforgive\n",
       "relparmax                1.000000E+01\n",
       "facparmax                1.000000E+01\n",
       "facorig                  1.000000E-03\n",
       "iboundstick                         0\n",
       "upvecbend                           0\n",
       "phiredswh                1.000000E-01\n",
       "noptswitch                          1\n",
       "splitswh                 1.100000E+00\n",
       "doaui                           noaui\n",
       "dosenreuse                 nosenreuse\n",
       "boundscale               noboundscale\n",
       "noptmax                            -1\n",
       "phiredstp                1.000000E-02\n",
       "nphistp                             3\n",
       "nphinored                           3\n",
       "relparstp                1.000000E-02\n",
       "nrelpar                             3\n",
       "phistopthresh            0.000000E+00\n",
       "lastrun                             1\n",
       "phiabandon              -1.000000E+00\n",
       "icov                                0\n",
       "icor                                0\n",
       "ieig                                0\n",
       "ires                                0\n",
       "jcosave                       jcosave\n",
       "verboserec                 verboserec\n",
       "jcosaveitn                 jcosaveitn\n",
       "reisaveitn                 reisaveitn\n",
       "parsaveitn                 parsaveitn\n",
       "parsaverun               noparsaverun\n",
       "dtype: object"
      ]
     },
     "execution_count": 27,
     "metadata": {},
     "output_type": "execute_result"
    }
   ],
   "source": [
    "mypst.control_data.noptmax = -1\n",
    "mypst.control_data.formatted_values"
   ]
  },
  {
   "cell_type": "code",
   "execution_count": 28,
   "metadata": {},
   "outputs": [],
   "source": [
    "mypst.model_command = './swb_forward_run_ALL_obs.sh'      # This runs swb and everything else\n",
    "mypst.control_data.noptmax = 0"
   ]
  },
  {
   "cell_type": "markdown",
   "metadata": {},
   "source": [
    "### Make sure these are updated:"
   ]
  },
  {
   "cell_type": "code",
   "execution_count": 29,
   "metadata": {},
   "outputs": [],
   "source": [
    "#(landuse_version + '.txt')\n",
    "#(landuse_version + '.tpl')"
   ]
  },
  {
   "cell_type": "code",
   "execution_count": 30,
   "metadata": {},
   "outputs": [],
   "source": [
    "mypst.template_files = [landuse_version + '.tpl', irrigation_version + '.tpl']\n",
    "mypst.input_files = [landuse_version + '.txt', irrigation_version + '.txt']\n",
    "\n",
    "mypst.instruction_files = ['MAP_simulated_et_obs_ALL_ET_sorted.ins','MAP_simulated_obs_SW.ins']\n",
    "mypst.output_files = ['swbstats_simulated_obs_et_ALL_sorted.obs','swbstats_simulated_obs_SW.obs']"
   ]
  },
  {
   "cell_type": "code",
   "execution_count": 31,
   "metadata": {},
   "outputs": [
    {
     "data": {
      "text/plain": [
       "['./swb_forward_run_ALL_obs.sh']"
      ]
     },
     "execution_count": 31,
     "metadata": {},
     "output_type": "execute_result"
    }
   ],
   "source": [
    "mypst.model_command\n",
    "#mypst.model_input/output"
   ]
  },
  {
   "cell_type": "code",
   "execution_count": null,
   "metadata": {},
   "outputs": [],
   "source": []
  },
  {
   "cell_type": "markdown",
   "metadata": {},
   "source": [
    "### Write output:"
   ]
  },
  {
   "cell_type": "code",
   "execution_count": 32,
   "metadata": {},
   "outputs": [
    {
     "name": "stdout",
     "output_type": "stream",
     "text": [
      "noptmax:0, npar_adj:494, nnz_obs:13075\n"
     ]
    }
   ],
   "source": [
    "mypst.write(os.path.join(outdir,'MAP_allobs_calib_run_allpars.pst'))\n",
    "# Need to edit line 8 of this to match prior versions that worked - remove last two variables."
   ]
  },
  {
   "cell_type": "code",
   "execution_count": 33,
   "metadata": {},
   "outputs": [
    {
     "data": {
      "text/plain": [
       "14006"
      ]
     },
     "execution_count": 33,
     "metadata": {},
     "output_type": "execute_result"
    }
   ],
   "source": [
    "mypst.nobs"
   ]
  },
  {
   "cell_type": "code",
   "execution_count": null,
   "metadata": {},
   "outputs": [],
   "source": []
  },
  {
   "cell_type": "code",
   "execution_count": null,
   "metadata": {},
   "outputs": [],
   "source": []
  }
 ],
 "metadata": {
  "kernelspec": {
   "display_name": "Python 3",
   "language": "python",
   "name": "python3"
  },
  "language_info": {
   "codemirror_mode": {
    "name": "ipython",
    "version": 3
   },
   "file_extension": ".py",
   "mimetype": "text/x-python",
   "name": "python",
   "nbconvert_exporter": "python",
   "pygments_lexer": "ipython3",
   "version": "3.7.7"
  }
 },
 "nbformat": 4,
 "nbformat_minor": 4
}
