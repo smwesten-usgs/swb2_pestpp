{
 "cells": [
  {
   "cell_type": "markdown",
   "metadata": {},
   "source": [
    "### Step 1: Create swb input .txt and .tpl files from Excel spreadsheets"
   ]
  },
  {
   "cell_type": "code",
   "execution_count": 1,
   "metadata": {},
   "outputs": [],
   "source": [
    "# 8/19/2020\n",
    "# MNielsen\n",
    "# Ran 8/3/2020 with MOREPARS files\n",
    "# 9/9/202 re-ran after fixing MOREPARS files"
   ]
  },
  {
   "cell_type": "code",
   "execution_count": 2,
   "metadata": {},
   "outputs": [],
   "source": [
    "import os\n",
    "import numpy as np\n",
    "import pandas as pd"
   ]
  },
  {
   "cell_type": "code",
   "execution_count": 3,
   "metadata": {},
   "outputs": [],
   "source": [
    "outdir = r'E:\\UMID_Data\\0188_offline\\modeldev\\PEST\\PEST_FILE_UPDATES'"
   ]
  },
  {
   "cell_type": "code",
   "execution_count": 4,
   "metadata": {},
   "outputs": [],
   "source": [
    "# Location of lookup table spreadsheets:\n",
    "\n",
    "pardir = r'E:\\UMID_Data\\0188_offline\\modeldev\\PARS\\TABLES'\n",
    "\n",
    "landuse_version = 'YETI_LU_lookup_table_MOREPARS'\n",
    "irrigation_version = 'YETI_IRR_lookup_table_MOREPARS'\n",
    "\n",
    "lufile = landuse_version + '.xlsx'\n",
    "irrfile = irrigation_version + '.xlsx'"
   ]
  },
  {
   "cell_type": "code",
   "execution_count": 5,
   "metadata": {},
   "outputs": [],
   "source": [
    "# Read landuse table\n",
    "infile = os.path.join(pardir,lufile)\n",
    "lutable = pd.read_excel(infile, 'TextExport')\n",
    "tpltable1 = pd.read_excel(infile, 'TPL_Export')\n",
    "del lutable['Unnamed: 0']\n",
    "del tpltable1['Unnamed: 0']"
   ]
  },
  {
   "cell_type": "code",
   "execution_count": 6,
   "metadata": {},
   "outputs": [],
   "source": [
    "# Read irrigation table\n",
    "infile = os.path.join(pardir,irrfile)\n",
    "irrtable = pd.read_excel(infile, 'TextExport')\n",
    "tpltable2 = pd.read_excel(infile, 'TPL_Export')\n",
    "#del irrtable['Unnamed: 0']\n",
    "#del tpltable2['Unnamed: 0']"
   ]
  },
  {
   "cell_type": "markdown",
   "metadata": {},
   "source": [
    "#### .txt and .tpl files:"
   ]
  },
  {
   "cell_type": "code",
   "execution_count": 7,
   "metadata": {},
   "outputs": [],
   "source": [
    "# LU .txt file:\n",
    "luoutfile = landuse_version + '.txt'  # filename\n",
    "lupath = os.path.join(outdir, luoutfile)\n",
    "lutable.to_csv(lupath, sep='\\t')  # write file\n",
    "# IRR .txt file:\n",
    "irroutfile = irrigation_version + '.txt'   # filename\n",
    "irrpath = os.path.join(outdir, irroutfile)\n",
    "irrtable.to_csv(irrpath, sep = '\\t')  # write file"
   ]
  },
  {
   "cell_type": "code",
   "execution_count": 8,
   "metadata": {},
   "outputs": [],
   "source": [
    "# LU .tpl table:\n",
    "lutplfile = landuse_version + '.tpl'   # filename\n",
    "tpl1path = os.path.join(outdir, lutplfile)\n",
    "tpltable1.to_csv(tpl1path, sep='\\t')   # write file\n",
    "# IRR .tpl table:\n",
    "irrtplfile = irrigation_version + '.tpl'   # filename\n",
    "tpl2path = os.path.join(outdir, irrtplfile)\n",
    "tpltable2.to_csv(tpl2path, sep='\\t')   # write file"
   ]
  },
  {
   "cell_type": "code",
   "execution_count": 9,
   "metadata": {},
   "outputs": [],
   "source": [
    "# INSERT the \"ptf ~\" text in the .tpl files...\n",
    "\n",
    "def line_prepender(filename, line):\n",
    "    with open(filename, 'r+') as f:\n",
    "        content = f.read()\n",
    "        f.seek(0, 0)\n",
    "        f.write(line.rstrip('\\r\\n') + '\\n' + content)\n",
    "\n",
    "line_prepender(tpl1path,'ptf ~')  # add to LU .tpl\n",
    "line_prepender(tpl2path,'ptf ~')  # add to IRR .tpl\n"
   ]
  },
  {
   "cell_type": "code",
   "execution_count": null,
   "metadata": {},
   "outputs": [],
   "source": []
  }
 ],
 "metadata": {
  "kernelspec": {
   "display_name": "Python 3",
   "language": "python",
   "name": "python3"
  },
  "language_info": {
   "codemirror_mode": {
    "name": "ipython",
    "version": 3
   },
   "file_extension": ".py",
   "mimetype": "text/x-python",
   "name": "python",
   "nbconvert_exporter": "python",
   "pygments_lexer": "ipython3",
   "version": "3.7.7"
  }
 },
 "nbformat": 4,
 "nbformat_minor": 4
}
